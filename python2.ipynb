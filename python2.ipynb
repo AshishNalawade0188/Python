{
  "cells": [
    {
      "cell_type": "markdown",
      "metadata": {
        "id": "view-in-github",
        "colab_type": "text"
      },
      "source": [
        "<a href=\"https://colab.research.google.com/github/AshishNalawade0188/Python/blob/main/python2.ipynb\" target=\"_parent\"><img src=\"https://colab.research.google.com/assets/colab-badge.svg\" alt=\"Open In Colab\"/></a>"
      ]
    },
    {
      "cell_type": "code",
      "execution_count": null,
      "metadata": {
        "id": "Cw1ckFUVKpbG"
      },
      "outputs": [],
      "source": [
        "# strings\n",
        "str1 = \"ashish is my name\"\n",
        "str2 = 'jcoe'\n",
        "str4 = \"\"\"ashish\"\"\"\n",
        "\n",
        "str3 = \"don't be rude\""
      ]
    },
    {
      "cell_type": "code",
      "source": [
        "str1 = \"this is string \\n my name is \\t\\tashish \"\n",
        "print(str1)"
      ],
      "metadata": {
        "colab": {
          "base_uri": "https://localhost:8080/"
        },
        "id": "SV1EnkmwurnH",
        "outputId": "d600cf85-3d2d-4b31-98a7-1311d0858b53"
      },
      "execution_count": null,
      "outputs": [
        {
          "output_type": "stream",
          "name": "stdout",
          "text": [
            "this is string \n",
            " my name is \t\tashish \n"
          ]
        }
      ]
    },
    {
      "cell_type": "code",
      "source": [
        "str5 = str1+ \"  \" +str2\n",
        "print(str5)"
      ],
      "metadata": {
        "colab": {
          "base_uri": "https://localhost:8080/"
        },
        "id": "CwHPsNE7vrCn",
        "outputId": "b7dcd25b-4dd3-4504-da57-11515c92b689"
      },
      "execution_count": null,
      "outputs": [
        {
          "output_type": "stream",
          "name": "stdout",
          "text": [
            "ashish is my name  jcoe\n"
          ]
        }
      ]
    },
    {
      "cell_type": "code",
      "source": [
        "len(str3)"
      ],
      "metadata": {
        "colab": {
          "base_uri": "https://localhost:8080/"
        },
        "id": "-gDheUFGv3zx",
        "outputId": "3bd76736-416c-4ee7-8be9-11b5cf15c299"
      },
      "execution_count": null,
      "outputs": [
        {
          "output_type": "execute_result",
          "data": {
            "text/plain": [
              "13"
            ]
          },
          "metadata": {},
          "execution_count": 12
        }
      ]
    },
    {
      "cell_type": "code",
      "source": [
        "print(str1[3])"
      ],
      "metadata": {
        "colab": {
          "base_uri": "https://localhost:8080/"
        },
        "id": "pumJxfCvwBj1",
        "outputId": "6bc49fbe-889f-450a-96d1-403065dab6c9"
      },
      "execution_count": null,
      "outputs": [
        {
          "output_type": "stream",
          "name": "stdout",
          "text": [
            "i\n"
          ]
        }
      ]
    },
    {
      "cell_type": "code",
      "source": [
        "#slicing\n",
        "str4[3:5]"
      ],
      "metadata": {
        "colab": {
          "base_uri": "https://localhost:8080/",
          "height": 36
        },
        "id": "mrZifCDRwB5E",
        "outputId": "42ca417f-e67e-4001-88ab-fe642280e819"
      },
      "execution_count": null,
      "outputs": [
        {
          "output_type": "execute_result",
          "data": {
            "text/plain": [
              "'is'"
            ],
            "application/vnd.google.colaboratory.intrinsic+json": {
              "type": "string"
            }
          },
          "metadata": {},
          "execution_count": 15
        }
      ]
    },
    {
      "cell_type": "code",
      "source": [
        "#string function\n",
        "str = \"My name is ashish\"\n",
        "print(str.endswith(\"sh\"))"
      ],
      "metadata": {
        "colab": {
          "base_uri": "https://localhost:8080/"
        },
        "id": "yQl_M8K9xa3k",
        "outputId": "e797a1bc-23bf-47d0-e631-aaec476e2ae0"
      },
      "execution_count": null,
      "outputs": [
        {
          "output_type": "stream",
          "name": "stdout",
          "text": [
            "True\n"
          ]
        }
      ]
    },
    {
      "cell_type": "code",
      "source": [
        "str1 = str.capitalize()\n",
        "print(str1)"
      ],
      "metadata": {
        "colab": {
          "base_uri": "https://localhost:8080/"
        },
        "id": "hlgcz_9mzR5h",
        "outputId": "de984dab-3df7-4e9e-d70a-f6c9e06ea1ab"
      },
      "execution_count": null,
      "outputs": [
        {
          "output_type": "stream",
          "name": "stdout",
          "text": [
            "My name is ashish\n"
          ]
        }
      ]
    },
    {
      "cell_type": "code",
      "source": [],
      "metadata": {
        "id": "Elm8T0Nvz5Z6"
      },
      "execution_count": null,
      "outputs": []
    },
    {
      "cell_type": "code",
      "source": [],
      "metadata": {
        "id": "UHcDytgnz8IC"
      },
      "execution_count": null,
      "outputs": []
    },
    {
      "cell_type": "code",
      "source": [
        "print(str.replace(\"ashish\",\"jcoe\"))"
      ],
      "metadata": {
        "colab": {
          "base_uri": "https://localhost:8080/"
        },
        "id": "III4dQWRzv4k",
        "outputId": "6bf5e795-4144-492d-8d3f-9ef2c5375936"
      },
      "execution_count": null,
      "outputs": [
        {
          "output_type": "stream",
          "name": "stdout",
          "text": [
            "My name is jcoe\n"
          ]
        }
      ]
    },
    {
      "cell_type": "code",
      "source": [
        "print(str.find( \"a\"))"
      ],
      "metadata": {
        "colab": {
          "base_uri": "https://localhost:8080/"
        },
        "id": "Pf3H4eL-z-OZ",
        "outputId": "7b7be78b-e3b7-4250-b306-59889d6f0041"
      },
      "execution_count": null,
      "outputs": [
        {
          "output_type": "stream",
          "name": "stdout",
          "text": [
            "4\n"
          ]
        }
      ]
    },
    {
      "cell_type": "code",
      "source": [
        "print(str.count(\"a\"))"
      ],
      "metadata": {
        "colab": {
          "base_uri": "https://localhost:8080/"
        },
        "id": "-4xPZytF0L3Z",
        "outputId": "2bd33185-93ea-4de2-864a-28186693a7de"
      },
      "execution_count": null,
      "outputs": [
        {
          "output_type": "stream",
          "name": "stdout",
          "text": [
            "2\n"
          ]
        }
      ]
    },
    {
      "cell_type": "code",
      "source": [
        "lenght = input(\"enter your name\")\n",
        "print(\"my name is :\",len(lenght))"
      ],
      "metadata": {
        "colab": {
          "base_uri": "https://localhost:8080/"
        },
        "id": "_DTrdWge0EUO",
        "outputId": "41401088-7054-4168-e744-0116880d5b02"
      },
      "execution_count": 1,
      "outputs": [
        {
          "output_type": "stream",
          "name": "stdout",
          "text": [
            "enter your nameasish\n",
            "my name is : 5\n"
          ]
        }
      ]
    },
    {
      "cell_type": "code",
      "source": [
        "\n",
        "str1 = \" im the $$$$$\"\n",
        "print(str1.count(\"$\"))\n",
        "print(str1.find(\"$\"))"
      ],
      "metadata": {
        "colab": {
          "base_uri": "https://localhost:8080/"
        },
        "id": "7vTE5oVl1EK1",
        "outputId": "a0a6fa24-16fd-45ca-9ddc-fa69c7964073"
      },
      "execution_count": null,
      "outputs": [
        {
          "output_type": "stream",
          "name": "stdout",
          "text": [
            "5\n",
            "8\n"
          ]
        }
      ]
    },
    {
      "cell_type": "code",
      "source": [
        "# conditional statements\n",
        "# if elif else\n",
        "\n",
        "light = \"green\"\n",
        "if(light == \"red\"):\n",
        "  print(\"you may stop now\")\n",
        "  print(\"don't drive\")\n",
        "elif(light == \"yellow\"):\n",
        "  print(\"neutral signal\")\n",
        "else :\n",
        "  print(\"go ahead\")\n",
        "print(\"end of code\")"
      ],
      "metadata": {
        "colab": {
          "base_uri": "https://localhost:8080/"
        },
        "id": "TLAK4Ddf1V9Q",
        "outputId": "8d665fdb-0d9e-4eee-bc41-a9ba4563403a"
      },
      "execution_count": null,
      "outputs": [
        {
          "output_type": "stream",
          "name": "stdout",
          "text": [
            "go ahead\n",
            "end of code\n"
          ]
        }
      ]
    },
    {
      "cell_type": "code",
      "source": [
        "user_marks = int(input())\n",
        "\n",
        "if(user_marks >= 90):\n",
        "\n",
        "  grade = \"A\"\n",
        "elif(user_marks >= 80 and user_marks < 90):\n",
        "  grade = \"B\"\n",
        "elif(user_marks >= 70 and user_marks < 80):\n",
        "  grade = \"C\"\n",
        "elif(user_marks >= 60 and user_marks < 70):\n",
        "  grade = \"D\"\n",
        "else:\n",
        "  grade = \"E\"\n",
        "print(grade)"
      ],
      "metadata": {
        "id": "gcMfujKZ5C5c"
      },
      "execution_count": null,
      "outputs": []
    },
    {
      "cell_type": "code",
      "source": [
        "num = 52\n",
        "if(num%2 == 0):\n",
        "  print(\"even\")\n",
        "else:\n",
        "  print(\"odd\")"
      ],
      "metadata": {
        "colab": {
          "base_uri": "https://localhost:8080/"
        },
        "id": "T8Zd_VN05fMI",
        "outputId": "e50cd347-d330-4504-f1c8-48be234a5ac7"
      },
      "execution_count": null,
      "outputs": [
        {
          "output_type": "stream",
          "name": "stdout",
          "text": [
            "even\n"
          ]
        }
      ]
    },
    {
      "cell_type": "code",
      "source": [
        "a = 5\n",
        "b =  6\n",
        "c = 3\n",
        "\n",
        "if a>b and a>c:\n",
        "  print(\" A is greater\")\n",
        "elif b>a and b>c:\n",
        "  print(\"B is greater\")\n",
        "else:\n",
        "  print(\"C is greater\")"
      ],
      "metadata": {
        "colab": {
          "base_uri": "https://localhost:8080/"
        },
        "id": "Ea9qMWrB7yZj",
        "outputId": "6f10e2a2-bd29-4f75-f8b6-032f2b8345d9"
      },
      "execution_count": null,
      "outputs": [
        {
          "output_type": "stream",
          "name": "stdout",
          "text": [
            "B is greater\n"
          ]
        }
      ]
    },
    {
      "cell_type": "code",
      "source": [
        " d = 52\n",
        " if (d % 7 == 0):\n",
        "  print(\"divisible by 7\")\n",
        "elif (d % 5 == 0):\n",
        "  print(\"divisible by 5\")\n",
        "else:\n",
        "  print(\"not divisible\")"
      ],
      "metadata": {
        "colab": {
          "base_uri": "https://localhost:8080/"
        },
        "id": "rG8uGPvU8Raa",
        "outputId": "6020b910-8cb1-4e64-e738-6a5f315c38ad"
      },
      "execution_count": null,
      "outputs": [
        {
          "output_type": "stream",
          "name": "stdout",
          "text": [
            "not divisible\n"
          ]
        }
      ]
    }
  ],
  "metadata": {
    "colab": {
      "provenance": [],
      "authorship_tag": "ABX9TyPeAnO7XZDCjNsDJcpnyUYK",
      "include_colab_link": true
    },
    "kernelspec": {
      "display_name": "Python 3",
      "name": "python3"
    },
    "language_info": {
      "name": "python"
    }
  },
  "nbformat": 4,
  "nbformat_minor": 0
}