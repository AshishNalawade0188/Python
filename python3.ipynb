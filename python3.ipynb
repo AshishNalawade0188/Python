{
  "nbformat": 4,
  "nbformat_minor": 0,
  "metadata": {
    "colab": {
      "provenance": [],
      "authorship_tag": "ABX9TyPprEd4qW7Exz+LOJX3zWH5",
      "include_colab_link": true
    },
    "kernelspec": {
      "name": "python3",
      "display_name": "Python 3"
    },
    "language_info": {
      "name": "python"
    }
  },
  "cells": [
    {
      "cell_type": "markdown",
      "metadata": {
        "id": "view-in-github",
        "colab_type": "text"
      },
      "source": [
        "<a href=\"https://colab.research.google.com/github/AshishNalawade0188/Python/blob/main/python3.ipynb\" target=\"_parent\"><img src=\"https://colab.research.google.com/assets/colab-badge.svg\" alt=\"Open In Colab\"/></a>"
      ]
    },
    {
      "cell_type": "code",
      "execution_count": null,
      "metadata": {
        "id": "XrUR_miKK7WG",
        "colab": {
          "base_uri": "https://localhost:8080/"
        },
        "outputId": "cce78060-3598-4ae1-ca20-2ad370a65ec4"
      },
      "outputs": [
        {
          "output_type": "execute_result",
          "data": {
            "text/plain": [
              "[2.03, 63.2, 12.3, 25.5, 23.5, 56.8]"
            ]
          },
          "metadata": {},
          "execution_count": 3
        }
      ],
      "source": [
        "marks = [2.03,63.2,12.3,25.5,23.5,56.8]\n",
        "marks"
      ]
    },
    {
      "cell_type": "code",
      "source": [
        "print(len(marks))"
      ],
      "metadata": {
        "colab": {
          "base_uri": "https://localhost:8080/"
        },
        "id": "RKPTdthu2-VR",
        "outputId": "9ad52144-da04-4f28-8df2-e7a9f3a687a2"
      },
      "execution_count": null,
      "outputs": [
        {
          "output_type": "stream",
          "name": "stdout",
          "text": [
            "6\n"
          ]
        }
      ]
    },
    {
      "cell_type": "code",
      "source": [
        "student = [\"ashish\",53,\"age\",55]\n",
        "print(student)"
      ],
      "metadata": {
        "colab": {
          "base_uri": "https://localhost:8080/"
        },
        "id": "2HYl-JTQ3fHk",
        "outputId": "50c01030-eb02-473c-809e-57fc8af64d16"
      },
      "execution_count": null,
      "outputs": [
        {
          "output_type": "stream",
          "name": "stdout",
          "text": [
            "['ashish', 53, 'age', 55]\n"
          ]
        }
      ]
    },
    {
      "cell_type": "code",
      "source": [
        "# channge name\n",
        "print(student[0])\n",
        "student[0] = \"arjun\"\n",
        "print(student)"
      ],
      "metadata": {
        "colab": {
          "base_uri": "https://localhost:8080/"
        },
        "id": "fDvctak23trI",
        "outputId": "d960892d-656b-480f-ed61-ae3e923de616"
      },
      "execution_count": null,
      "outputs": [
        {
          "output_type": "stream",
          "name": "stdout",
          "text": [
            "arjun\n",
            "['arjun', 53, 'age', 55]\n"
          ]
        }
      ]
    },
    {
      "cell_type": "code",
      "source": [
        "#slicinng in in list\n",
        "print(student[1:3])"
      ],
      "metadata": {
        "colab": {
          "base_uri": "https://localhost:8080/"
        },
        "id": "_W7VufL_4SBm",
        "outputId": "db8f4d3b-0b2c-4f3a-8e4a-c217e58acc62"
      },
      "execution_count": null,
      "outputs": [
        {
          "output_type": "stream",
          "name": "stdout",
          "text": [
            "[53, 'age']\n"
          ]
        }
      ]
    },
    {
      "cell_type": "code",
      "source": [
        "print(marks[1:6])\n",
        "print(marks[:5])\n",
        "print(marks[1:])"
      ],
      "metadata": {
        "colab": {
          "base_uri": "https://localhost:8080/"
        },
        "id": "Y5p98QGB4YEa",
        "outputId": "8ccdfaf9-273e-4a78-bdfb-30f6cb64ec38"
      },
      "execution_count": null,
      "outputs": [
        {
          "output_type": "stream",
          "name": "stdout",
          "text": [
            "[63.2, 12.3, 25.5, 23.5, 56.8]\n",
            "[2.03, 63.2, 12.3, 25.5, 23.5]\n",
            "[63.2, 12.3, 25.5, 23.5, 56.8]\n"
          ]
        }
      ]
    },
    {
      "cell_type": "code",
      "source": [
        "# list method\n",
        "list = [5,6,2,8,1,5,4,5,4,8,5,2]\n",
        "list.append(55)\n",
        "list\n"
      ],
      "metadata": {
        "colab": {
          "base_uri": "https://localhost:8080/"
        },
        "id": "V6l9KnNx4eHC",
        "outputId": "947831cb-6977-44e7-97b7-7bcc6e3e8bd3"
      },
      "execution_count": null,
      "outputs": [
        {
          "output_type": "execute_result",
          "data": {
            "text/plain": [
              "[5, 6, 2, 8, 1, 5, 4, 5, 4, 8, 5, 2, 55]"
            ]
          },
          "metadata": {},
          "execution_count": 30
        }
      ]
    },
    {
      "cell_type": "code",
      "source": [
        "info = [ \"ashish\",53,63,\"sahil\"]"
      ],
      "metadata": {
        "id": "twrmNgvk5hXp"
      },
      "execution_count": null,
      "outputs": []
    },
    {
      "cell_type": "code",
      "source": [
        "info.sort()"
      ],
      "metadata": {
        "colab": {
          "base_uri": "https://localhost:8080/",
          "height": 141
        },
        "id": "48IZ-ZrB50Ov",
        "outputId": "e14c4646-5275-4741-f5ae-924475251ca8"
      },
      "execution_count": null,
      "outputs": [
        {
          "output_type": "error",
          "ename": "TypeError",
          "evalue": "'<' not supported between instances of 'int' and 'str'",
          "traceback": [
            "\u001b[0;31m---------------------------------------------------------------------------\u001b[0m",
            "\u001b[0;31mTypeError\u001b[0m                                 Traceback (most recent call last)",
            "\u001b[0;32m/tmp/ipython-input-27-1862202059.py\u001b[0m in \u001b[0;36m<cell line: 0>\u001b[0;34m()\u001b[0m\n\u001b[0;32m----> 1\u001b[0;31m \u001b[0minfo\u001b[0m\u001b[0;34m.\u001b[0m\u001b[0msort\u001b[0m\u001b[0;34m(\u001b[0m\u001b[0;34m)\u001b[0m\u001b[0;34m\u001b[0m\u001b[0;34m\u001b[0m\u001b[0m\n\u001b[0m",
            "\u001b[0;31mTypeError\u001b[0m: '<' not supported between instances of 'int' and 'str'"
          ]
        }
      ]
    },
    {
      "cell_type": "code",
      "source": [
        "list =[5,6,3,8,3,8]\n",
        "list.reverse()\n",
        "print(list)\n"
      ],
      "metadata": {
        "colab": {
          "base_uri": "https://localhost:8080/"
        },
        "id": "l7roM9XU5_g0",
        "outputId": "ad96c184-82fb-49c2-e78d-c77ae4385c9e"
      },
      "execution_count": null,
      "outputs": [
        {
          "output_type": "stream",
          "name": "stdout",
          "text": [
            "[8, 3, 8, 3, 6, 5]\n"
          ]
        }
      ]
    },
    {
      "cell_type": "code",
      "source": [
        "list.insert(2,55)\n",
        "print(list)\n"
      ],
      "metadata": {
        "colab": {
          "base_uri": "https://localhost:8080/"
        },
        "id": "Tq8_TtUl65ml",
        "outputId": "b4cbdcf1-286c-44ea-cc88-e01fb04387d0"
      },
      "execution_count": null,
      "outputs": [
        {
          "output_type": "stream",
          "name": "stdout",
          "text": [
            "[8, 3, 55, 55, 55, 8, 3, 6, 5]\n"
          ]
        }
      ]
    },
    {
      "cell_type": "code",
      "source": [
        "list.pop(2)"
      ],
      "metadata": {
        "colab": {
          "base_uri": "https://localhost:8080/"
        },
        "id": "YLgqBWxs7nXQ",
        "outputId": "35983b08-d0b5-4013-e424-654ed6db7de6"
      },
      "execution_count": null,
      "outputs": [
        {
          "output_type": "execute_result",
          "data": {
            "text/plain": [
              "55"
            ]
          },
          "metadata": {},
          "execution_count": 46
        }
      ]
    },
    {
      "cell_type": "code",
      "source": [
        "# tuples = immutable\n",
        "tup = (5,6,3,8,3,8)\n",
        "print(tup)\n",
        "tup1 = ()\n",
        "type(tup)\n",
        "print(tup[2])\n",
        "tup.count(8)\n",
        "tup.index(8)\n"
      ],
      "metadata": {
        "colab": {
          "base_uri": "https://localhost:8080/"
        },
        "id": "_7x8jdV274x8",
        "outputId": "6fd7b3ee-56d0-40a2-95b3-0a31f8e68dcd"
      },
      "execution_count": null,
      "outputs": [
        {
          "output_type": "stream",
          "name": "stdout",
          "text": [
            "(5, 6, 3, 8, 3, 8)\n",
            "3\n"
          ]
        },
        {
          "output_type": "execute_result",
          "data": {
            "text/plain": [
              "3"
            ]
          },
          "metadata": {},
          "execution_count": 51
        }
      ]
    },
    {
      "cell_type": "code",
      "source": [
        "movie = []\n",
        "movie.append(input(\"Movie name \"))\n",
        "movie.append(input(\"Movie name\"))\n",
        "\n",
        "movie.append(input(\"Movie name\"))\n",
        "movie.append(input(\"Movie name\"))\n",
        "movie.append(input(\"Movie name\"))\n",
        "print(movie)\n"
      ],
      "metadata": {
        "colab": {
          "base_uri": "https://localhost:8080/"
        },
        "id": "_xY1PQd89Lzk",
        "outputId": "5c800985-aa85-4b36-94ba-5438f849d64f"
      },
      "execution_count": null,
      "outputs": [
        {
          "output_type": "stream",
          "name": "stdout",
          "text": [
            "Movie name ravan\n",
            "Movie nameboothnath\n",
            "Movie namesalar\n",
            "Movie namekgf\n",
            "Movie namedon\n",
            "['ravan', 'boothnath', 'salar', 'kgf', 'don']\n"
          ]
        }
      ]
    },
    {
      "cell_type": "code",
      "source": [
        "list = [1,2,3,2,1]\n",
        "list.copy\n",
        "if(list == list.copy()):\n",
        "  print(\"pallindrome\")\n",
        "else:\n",
        "  print(\"not pallindrome\")\n"
      ],
      "metadata": {
        "colab": {
          "base_uri": "https://localhost:8080/"
        },
        "id": "wiag2sae_Dq-",
        "outputId": "e06ca7c2-4f20-4365-ed87-01e326567a87"
      },
      "execution_count": null,
      "outputs": [
        {
          "output_type": "stream",
          "name": "stdout",
          "text": [
            "pallindrome\n"
          ]
        }
      ]
    },
    {
      "cell_type": "code",
      "source": [
        "grades = [\"A\",\"B\",\"C\",\"D\",\"A\"]\n",
        "grades.sort()\n",
        "print(grades)"
      ],
      "metadata": {
        "colab": {
          "base_uri": "https://localhost:8080/"
        },
        "id": "wl5n5dCQAdeW",
        "outputId": "3f1374dd-442d-4904-feb5-9762c05128c6"
      },
      "execution_count": null,
      "outputs": [
        {
          "output_type": "stream",
          "name": "stdout",
          "text": [
            "['A', 'A', 'B', 'C', 'D']\n"
          ]
        }
      ]
    }
  ]
}