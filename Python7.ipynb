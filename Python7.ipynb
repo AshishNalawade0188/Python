{
  "nbformat": 4,
  "nbformat_minor": 0,
  "metadata": {
    "colab": {
      "provenance": [],
      "authorship_tag": "ABX9TyO7Fg5Od7GZa2pxHjZMEG1Q",
      "include_colab_link": true
    },
    "kernelspec": {
      "name": "python3",
      "display_name": "Python 3"
    },
    "language_info": {
      "name": "python"
    }
  },
  "cells": [
    {
      "cell_type": "markdown",
      "metadata": {
        "id": "view-in-github",
        "colab_type": "text"
      },
      "source": [
        "<a href=\"https://colab.research.google.com/github/AshishNalawade0188/Python/blob/main/Python7.ipynb\" target=\"_parent\"><img src=\"https://colab.research.google.com/assets/colab-badge.svg\" alt=\"Open In Colab\"/></a>"
      ]
    },
    {
      "cell_type": "code",
      "source": [
        "f = open(\"demo.txt\",\"r\")"
      ],
      "metadata": {
        "id": "MwyWbg1GzCcn"
      },
      "execution_count": 24,
      "outputs": []
    },
    {
      "cell_type": "code",
      "source": [
        "line1 = f.readline()\n",
        "print(line1)"
      ],
      "metadata": {
        "colab": {
          "base_uri": "https://localhost:8080/"
        },
        "id": "7lk6iaDFxFyE",
        "outputId": "728c4909-d747-46de-a339-1693385a0e7a"
      },
      "execution_count": 25,
      "outputs": [
        {
          "output_type": "stream",
          "name": "stdout",
          "text": [
            "hii my name is ashish\n",
            "\n"
          ]
        }
      ]
    },
    {
      "cell_type": "code",
      "source": [
        "line2 = f.readline()\n",
        "print(line2)"
      ],
      "metadata": {
        "colab": {
          "base_uri": "https://localhost:8080/"
        },
        "id": "aNUCXtq5xdal",
        "outputId": "b70a46be-de65-460d-a60e-75164ad8b021"
      },
      "execution_count": 26,
      "outputs": [
        {
          "output_type": "stream",
          "name": "stdout",
          "text": [
            "im persuing BE in artificial Intelligence and data sciencei want to learn aii want to learn ai\n"
          ]
        }
      ]
    },
    {
      "cell_type": "code",
      "source": [
        "print(type(data))\n"
      ],
      "metadata": {
        "colab": {
          "base_uri": "https://localhost:8080/"
        },
        "id": "MgWLuwbFwD0J",
        "outputId": "c9dc979d-236b-47a1-84d6-398143f997f6"
      },
      "execution_count": 27,
      "outputs": [
        {
          "output_type": "stream",
          "name": "stdout",
          "text": [
            "<class 'str'>\n"
          ]
        }
      ]
    },
    {
      "cell_type": "code",
      "source": [
        "data = f.read(5)\n",
        "print(data)"
      ],
      "metadata": {
        "colab": {
          "base_uri": "https://localhost:8080/"
        },
        "id": "SieWWFAsv00X",
        "outputId": "a8c53d3d-9a03-439b-f183-0dcf19372fc9"
      },
      "execution_count": 28,
      "outputs": [
        {
          "output_type": "stream",
          "name": "stdout",
          "text": [
            "\n"
          ]
        }
      ]
    },
    {
      "cell_type": "code",
      "source": [],
      "metadata": {
        "id": "Js_7k2ZxzXtc"
      },
      "execution_count": null,
      "outputs": []
    },
    {
      "cell_type": "code",
      "source": [
        "f.close()"
      ],
      "metadata": {
        "id": "KYHJh4rHwBs0"
      },
      "execution_count": 29,
      "outputs": []
    },
    {
      "cell_type": "code",
      "source": [
        "f = open(\"/content/demo.txt\",\"a\")\n",
        "f.write(\"Now the file has more content!\")\n",
        "f.close()\n",
        "\n",
        "#open and read the file after the appending:\n",
        "f# = open(\"/content/demo.txt\", \"r"
      ],
      "metadata": {
        "colab": {
          "base_uri": "https://localhost:8080/"
        },
        "id": "Z8yT9KK9zaNw",
        "outputId": "bf0eb398-e672-4f14-9164-2cd3bb7df412"
      },
      "execution_count": 31,
      "outputs": [
        {
          "output_type": "execute_result",
          "data": {
            "text/plain": [
              "<_io.TextIOWrapper name='/content/demo.txt' mode='a' encoding='utf-8'>"
            ]
          },
          "metadata": {},
          "execution_count": 31
        }
      ]
    },
    {
      "cell_type": "code",
      "source": [
        "f = open(\"/content/demo.txt\",\"r+\")\n",
        "f.write(\"abc\")\n",
        "f.close()\n"
      ],
      "metadata": {
        "id": "YNMW3p2bztJa"
      },
      "execution_count": 33,
      "outputs": []
    },
    {
      "cell_type": "code",
      "source": [
        "#with syntax\n",
        "with open(\"/content/demo.txt\",\"r\") as f:\n",
        "  data = f.read()\n",
        "  print(data)\n"
      ],
      "metadata": {
        "colab": {
          "base_uri": "https://localhost:8080/"
        },
        "id": "pzQYiR281NMx",
        "outputId": "47ebe2f3-0492-48bd-98dc-f0d2d1cbc025"
      },
      "execution_count": 34,
      "outputs": [
        {
          "output_type": "stream",
          "name": "stdout",
          "text": [
            "abcding and wriyhong\n"
          ]
        }
      ]
    },
    {
      "cell_type": "code",
      "source": [
        "import os\n",
        "os.remove(\"/content/demo.txt\")"
      ],
      "metadata": {
        "id": "hmsVdP4r1xx9"
      },
      "execution_count": 36,
      "outputs": []
    },
    {
      "cell_type": "code",
      "source": [
        "#practice qusetion\n",
        "with open(\"/content/practice.txt\",\"w\") as f:\n",
        "  f.write(\"i everyone \\n we are learning file i/o\")\n",
        "  f.write(\"using java.\\n i like programing in java\")\n",
        "f.close()"
      ],
      "metadata": {
        "id": "d7g6QxJ62t8C"
      },
      "execution_count": 40,
      "outputs": []
    },
    {
      "cell_type": "code",
      "source": [
        "#practice qusetion\n",
        "with open(\"/content/practice.txt\",\"r\") as f:\n",
        "  data = f.read()\n",
        "new_data = data.replace(\"java\",\"python\")\n",
        "with open(\"/content/practice.txt\",\"w\") as f:\n",
        "  f.write(new_data)\n"
      ],
      "metadata": {
        "id": "fJfaQ1PR3vSY"
      },
      "execution_count": 42,
      "outputs": []
    },
    {
      "cell_type": "code",
      "source": [
        "  word = \"learning\"\n",
        "\n",
        "  with open(\"/content/practice.txt\",\"r\") as f:\n",
        "    data = f.read()\n",
        "    if(data.find(word) != -1):\n",
        "      print(\"word found\")\n",
        "    else:\n",
        "      print(\"word not found\")\n",
        ""
      ],
      "metadata": {
        "colab": {
          "base_uri": "https://localhost:8080/"
        },
        "id": "xejeplNK4G7j",
        "outputId": "af9ee9f6-2be9-421f-c55d-a4c2e721523c"
      },
      "execution_count": 46,
      "outputs": [
        {
          "output_type": "stream",
          "name": "stdout",
          "text": [
            "word found\n"
          ]
        }
      ]
    },
    {
      "cell_type": "code",
      "source": [
        "def check_word():\n",
        "  word = \"xlearning\"\n",
        "\n",
        "  with open(\"/content/practice.txt\",\"r\") as f:\n",
        "    data = f.read()\n",
        "    if(data.find(word) != -1):\n",
        "      print(\"word found\")\n",
        "    else:\n",
        "      print(\"word not found\")\n",
        "check_word()"
      ],
      "metadata": {
        "colab": {
          "base_uri": "https://localhost:8080/"
        },
        "id": "hshGL6kp5FlI",
        "outputId": "118a813c-0ca4-4224-aab9-365e1ffc8ff2"
      },
      "execution_count": 48,
      "outputs": [
        {
          "output_type": "stream",
          "name": "stdout",
          "text": [
            "word not found\n"
          ]
        }
      ]
    },
    {
      "cell_type": "code",
      "source": [
        "def check_line():\n",
        "  word = \"learning\"\n",
        "  data = True\n",
        "  line_no = 1\n",
        "  with open(\"/content/practice.txt\",\"r\") as f:\n",
        "    while data:\n",
        "      data = f.readline()\n",
        "      if(word in data):\n",
        "        print(line_no)\n",
        "      line_no += 1\n",
        "check_line()\n"
      ],
      "metadata": {
        "colab": {
          "base_uri": "https://localhost:8080/"
        },
        "id": "Ht0fdcYo6_sd",
        "outputId": "94dae43a-643d-4c2c-be9b-19a899f6fd1c"
      },
      "execution_count": 51,
      "outputs": [
        {
          "output_type": "stream",
          "name": "stdout",
          "text": [
            "2\n"
          ]
        }
      ]
    },
    {
      "cell_type": "code",
      "source": [
        "with open(\"/content/practice.txt\",\"r\") as f:\n",
        "  data = f.read()\n",
        "  print(data)"
      ],
      "metadata": {
        "colab": {
          "base_uri": "https://localhost:8080/"
        },
        "id": "Y8Ws_Cbs8b2O",
        "outputId": "87916df5-0b64-4d00-a125-eac79149b7de"
      },
      "execution_count": 53,
      "outputs": [
        {
          "output_type": "stream",
          "name": "stdout",
          "text": [
            "51, 62, 52, 63, 88\n"
          ]
        }
      ]
    }
  ]
}