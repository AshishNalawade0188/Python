{
  "nbformat": 4,
  "nbformat_minor": 0,
  "metadata": {
    "colab": {
      "provenance": [],
      "authorship_tag": "ABX9TyNmDGUOJog5wq26yGu1tFZn",
      "include_colab_link": true
    },
    "kernelspec": {
      "name": "python3",
      "display_name": "Python 3"
    },
    "language_info": {
      "name": "python"
    }
  },
  "cells": [
    {
      "cell_type": "markdown",
      "metadata": {
        "id": "view-in-github",
        "colab_type": "text"
      },
      "source": [
        "<a href=\"https://colab.research.google.com/github/AshishNalawade0188/Python/blob/main/python1.ipynb\" target=\"_parent\"><img src=\"https://colab.research.google.com/assets/colab-badge.svg\" alt=\"Open In Colab\"/></a>"
      ]
    },
    {
      "cell_type": "code",
      "execution_count": null,
      "metadata": {
        "colab": {
          "base_uri": "https://localhost:8080/"
        },
        "id": "EZswSHMmi6FT",
        "outputId": "09d3a098-dd35-41f9-8a11-27de9d137061"
      },
      "outputs": [
        {
          "output_type": "stream",
          "name": "stdout",
          "text": [
            "Ashish is my name, My age is 22\n",
            "20\n"
          ]
        }
      ],
      "source": [
        "print(\"Ashish is my name,\",\"My age is 22\")\n",
        "print(20)"
      ]
    },
    {
      "cell_type": "code",
      "source": [
        "print(23+30)"
      ],
      "metadata": {
        "colab": {
          "base_uri": "https://localhost:8080/"
        },
        "id": "N4xTj5FUkNjk",
        "outputId": "2fd8ce0b-9793-4df0-ae3c-71292c01b203"
      },
      "execution_count": null,
      "outputs": [
        {
          "output_type": "stream",
          "name": "stdout",
          "text": [
            "53\n"
          ]
        }
      ]
    },
    {
      "cell_type": "code",
      "source": [
        "print(2.333)"
      ],
      "metadata": {
        "colab": {
          "base_uri": "https://localhost:8080/"
        },
        "id": "4uUjOY7NkOuP",
        "outputId": "293fce93-ac8c-417b-80bb-f5ae220fe92b"
      },
      "execution_count": null,
      "outputs": [
        {
          "output_type": "stream",
          "name": "stdout",
          "text": [
            "2.333\n"
          ]
        }
      ]
    },
    {
      "cell_type": "code",
      "source": [
        "name = \"ashish\"\n",
        "print(name)\n",
        "age = 22\n",
        "age2 = age\n",
        "price = 22.22\n",
        "rollno = True\n",
        "a = None"
      ],
      "metadata": {
        "colab": {
          "base_uri": "https://localhost:8080/"
        },
        "id": "gdsaivpvk2wB",
        "outputId": "63361154-1905-404a-9d34-259e096f9e1d"
      },
      "execution_count": null,
      "outputs": [
        {
          "output_type": "stream",
          "name": "stdout",
          "text": [
            "ashish\n"
          ]
        }
      ]
    },
    {
      "cell_type": "code",
      "source": [
        "print(\"my name is ashish :\",name)\n",
        "print(\"my age is :\" ,age2)\n",
        "print(\"my price is :\" ,price)"
      ],
      "metadata": {
        "colab": {
          "base_uri": "https://localhost:8080/"
        },
        "id": "X-b0jIf7mIwp",
        "outputId": "74848b64-2338-4615-db16-cec3c753e52d"
      },
      "execution_count": null,
      "outputs": [
        {
          "output_type": "stream",
          "name": "stdout",
          "text": [
            "my name is ashish : ashish\n",
            "my age is : 22\n",
            "my price is : 22.22\n"
          ]
        }
      ]
    },
    {
      "cell_type": "code",
      "source": [
        "print(type(name))\n",
        "print(type(age))\n",
        "print(type(price))\n",
        "print(type(rollno))\n",
        "print(type(a))\n"
      ],
      "metadata": {
        "colab": {
          "base_uri": "https://localhost:8080/"
        },
        "id": "mMBCRy4OnoVM",
        "outputId": "eb8734cb-ec0e-483d-d9be-ad0bcd6ff5e2"
      },
      "execution_count": null,
      "outputs": [
        {
          "output_type": "stream",
          "name": "stdout",
          "text": [
            "<class 'str'>\n",
            "<class 'int'>\n",
            "<class 'float'>\n",
            "<class 'bool'>\n",
            "<class 'NoneType'>\n"
          ]
        }
      ]
    },
    {
      "cell_type": "code",
      "source": [
        "# ketwoeds\n",
        "# and,as,assert,break,class,continue,def,del,elif,else,except,\n",
        "# finally,False,for,from,global,if,import,in,is,lambda,nonlocal,\n",
        "# None,not,or,pass,return,True,try,with,while,yield"
      ],
      "metadata": {
        "id": "I9u2q_6Uo2bj"
      },
      "execution_count": null,
      "outputs": []
    },
    {
      "cell_type": "code",
      "source": [
        "a = 364\n",
        "b = 545\n",
        "sum = a+b\n",
        "print(sum)"
      ],
      "metadata": {
        "colab": {
          "base_uri": "https://localhost:8080/"
        },
        "id": "JVDiTtswp5y1",
        "outputId": "ce2e8940-f962-4d25-c15e-1825ec865dc2"
      },
      "execution_count": null,
      "outputs": [
        {
          "output_type": "stream",
          "name": "stdout",
          "text": [
            "909\n"
          ]
        }
      ]
    },
    {
      "cell_type": "code",
      "source": [
        "#  # operator\n",
        "#  arithmatic operator +,-,*,/,%,**\n",
        "#  relational operator ==,!=,>,<,>=,<=\n",
        "#  assignment operator =,+=,-+,/+,%=,**=\n",
        "#  logical operator and,or,not\n",
        "#  identity operator is,is not\n",
        "#  membership operator in,not in\n",
        "#  bitwise operator &,|,^,~,<<,>>\n"
      ],
      "metadata": {
        "id": "a3CmhVp1q4IX"
      },
      "execution_count": null,
      "outputs": []
    },
    {
      "cell_type": "code",
      "source": [
        "a = 6\n",
        "b = 8\n",
        "\n",
        "print(a + b)\n",
        "print(a - b)\n",
        "print(a * b)\n",
        "print(a / b)\n",
        "print(a % b) # reminder\n",
        "print(a ** b)\n",
        "print(a // b)\n",
        "print(a == b)\n",
        "print(a != b)\n",
        "print(a >= b)\n",
        "print(a <= b)\n",
        "print(a > b)\n",
        "print(a < b)"
      ],
      "metadata": {
        "colab": {
          "base_uri": "https://localhost:8080/"
        },
        "id": "c0MZuCCyrS1K",
        "outputId": "c1f4aa68-f4a5-4499-a173-1f3a9bf6dd56"
      },
      "execution_count": null,
      "outputs": [
        {
          "output_type": "stream",
          "name": "stdout",
          "text": [
            "14\n",
            "-2\n",
            "48\n",
            "0.75\n",
            "6\n",
            "1679616\n",
            "0\n",
            "False\n",
            "True\n",
            "False\n",
            "True\n",
            "False\n",
            "True\n"
          ]
        }
      ]
    },
    {
      "cell_type": "code",
      "source": [
        "num = 10\n",
        "num **=10\n",
        "print(num)\n"
      ],
      "metadata": {
        "colab": {
          "base_uri": "https://localhost:8080/"
        },
        "id": "GHLL9aTEtGbG",
        "outputId": "4ba529f5-af13-4cf2-f4c8-f1e31874803b"
      },
      "execution_count": null,
      "outputs": [
        {
          "output_type": "stream",
          "name": "stdout",
          "text": [
            "10000000000\n"
          ]
        }
      ]
    },
    {
      "cell_type": "code",
      "source": [
        "#logical\n",
        "print( not True)\n",
        "a = 20\n",
        "b = 65\n",
        "print(not(b>a))\n",
        "\n",
        "val1 = True\n",
        "val2 = False\n",
        "print(\"and operator\",val1 and val2)\n",
        "print(\"or operator\",val1 or val2)"
      ],
      "metadata": {
        "colab": {
          "base_uri": "https://localhost:8080/"
        },
        "id": "H-dcqWWkuNOf",
        "outputId": "d85c2e57-bc73-4d4f-c5ea-0aff6d635f3b"
      },
      "execution_count": null,
      "outputs": [
        {
          "output_type": "stream",
          "name": "stdout",
          "text": [
            "False\n",
            "False\n",
            "and operator False\n",
            "or operator True\n"
          ]
        }
      ]
    },
    {
      "cell_type": "code",
      "source": [
        "# type conversion\n",
        "a = int(\"5\")\n",
        "b = float(\"54.44\")\n",
        "sum = a+b\n",
        "print(sum)\n",
        "print(type(sum))\n",
        "\n",
        "n = 641\n",
        "print(str(n))\n",
        "print(type(str(n)))"
      ],
      "metadata": {
        "colab": {
          "base_uri": "https://localhost:8080/"
        },
        "id": "Bcsu_dxJvYf_",
        "outputId": "44ef34cc-9592-4350-e634-3c9e5cbeb5bc"
      },
      "execution_count": null,
      "outputs": [
        {
          "output_type": "stream",
          "name": "stdout",
          "text": [
            "59.44\n",
            "<class 'float'>\n",
            "641\n",
            "<class 'str'>\n"
          ]
        }
      ]
    },
    {
      "cell_type": "code",
      "source": [
        "name = input(\"enter your name :\")\n",
        "print(type(name), name)"
      ],
      "metadata": {
        "colab": {
          "base_uri": "https://localhost:8080/"
        },
        "id": "Q4jIqVvewgEC",
        "outputId": "1a7a403e-c848-4011-8228-47f0b3bf5bb4"
      },
      "execution_count": null,
      "outputs": [
        {
          "output_type": "stream",
          "name": "stdout",
          "text": [
            "enter your name :ashish\n",
            "<class 'str'> ashish\n"
          ]
        }
      ]
    },
    {
      "cell_type": "code",
      "source": [
        "name = str(input(\"enter your name :\"))\n",
        "age = input(\"enter your age :\")\n",
        "marks = float(input(\"enter your marks :\"))\n",
        "\n",
        "print(\"your name \",name)\n",
        "print(\"your age \",age)\n",
        "print(\"your marks \",marks)"
      ],
      "metadata": {
        "colab": {
          "base_uri": "https://localhost:8080/"
        },
        "id": "0AVE0W1Awwd_",
        "outputId": "d086a76d-0487-43d5-e0a5-5edd782f7799"
      },
      "execution_count": null,
      "outputs": [
        {
          "output_type": "stream",
          "name": "stdout",
          "text": [
            "enter your name :ashish\n",
            "enter your age :56\n",
            "enter your marks :21.26\n",
            "your name  ashish\n",
            "your age  56\n",
            "your marks  21.26\n"
          ]
        }
      ]
    },
    {
      "cell_type": "code",
      "source": [
        "x = int(input(\"enter first number :\"))\n",
        "y = int(input(\"enter second number :\"))\n",
        "sum = x+y\n",
        "print(\"total\",sum)"
      ],
      "metadata": {
        "colab": {
          "base_uri": "https://localhost:8080/"
        },
        "id": "bm7Fy4Cnysbp",
        "outputId": "bddb1182-4de9-4eaf-ccaf-7c3258aaa611"
      },
      "execution_count": null,
      "outputs": [
        {
          "output_type": "stream",
          "name": "stdout",
          "text": [
            "enter first number :44\n",
            "enter second number :544\n",
            "total 588\n"
          ]
        }
      ]
    },
    {
      "cell_type": "code",
      "source": [
        "side = float(input(\"enter side :\"))\n",
        "area = side*side\n",
        "print(\"area :\", area)"
      ],
      "metadata": {
        "colab": {
          "base_uri": "https://localhost:8080/"
        },
        "id": "RBfM_4e0ysfN",
        "outputId": "9351f689-58df-49c9-c348-788e841d11f5"
      },
      "execution_count": null,
      "outputs": [
        {
          "output_type": "stream",
          "name": "stdout",
          "text": [
            "enter side :5445.55\n",
            "area : 29654014.802500002\n"
          ]
        }
      ]
    },
    {
      "cell_type": "code",
      "source": [
        "a = float(input(\"first side:\"))\n",
        "b = float(input(\"second side:\"))\n",
        "c = float(input(\"third side:\"))\n",
        "average = a+b+c/3\n",
        "print(\"average :\",average)"
      ],
      "metadata": {
        "colab": {
          "base_uri": "https://localhost:8080/"
        },
        "id": "lZudLqz2zQq4",
        "outputId": "6396063f-334c-4d64-c5e6-0cf7e20ff8fb"
      },
      "execution_count": null,
      "outputs": [
        {
          "output_type": "stream",
          "name": "stdout",
          "text": [
            "first side:62.5\n",
            "second side:52.6\n",
            "third side:622.5\n",
            "average : 322.6\n"
          ]
        }
      ]
    },
    {
      "cell_type": "code",
      "source": [
        "a = float(input(\"a =\"))\n",
        "b = float(input(\"b =\"))\n",
        "c = float(input(\"c =\"))\n",
        "\n",
        "\n",
        "print(a >= b)"
      ],
      "metadata": {
        "colab": {
          "base_uri": "https://localhost:8080/"
        },
        "id": "5qT0Le3s0QGt",
        "outputId": "9c571bdd-631f-4f69-8e84-c0bb9363e1a9"
      },
      "execution_count": null,
      "outputs": [
        {
          "output_type": "stream",
          "name": "stdout",
          "text": [
            "a =65\n",
            "b =32\n",
            "c =45\n",
            "True\n"
          ]
        }
      ]
    }
  ]
}