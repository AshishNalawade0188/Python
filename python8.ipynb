{
  "nbformat": 4,
  "nbformat_minor": 0,
  "metadata": {
    "colab": {
      "provenance": [],
      "authorship_tag": "ABX9TyNWlE/oJJbK5HqlfMYN5q12",
      "include_colab_link": true
    },
    "kernelspec": {
      "name": "python3",
      "display_name": "Python 3"
    },
    "language_info": {
      "name": "python"
    }
  },
  "cells": [
    {
      "cell_type": "markdown",
      "metadata": {
        "id": "view-in-github",
        "colab_type": "text"
      },
      "source": [
        "<a href=\"https://colab.research.google.com/github/AshishNalawade0188/Python/blob/main/python8.ipynb\" target=\"_parent\"><img src=\"https://colab.research.google.com/assets/colab-badge.svg\" alt=\"Open In Colab\"/></a>"
      ]
    },
    {
      "cell_type": "code",
      "execution_count": null,
      "metadata": {
        "id": "fxd61uTIcJlf"
      },
      "outputs": [],
      "source": [
        "# oops concepts"
      ]
    },
    {
      "cell_type": "code",
      "source": [
        "class student:\n",
        "  name = \"ashish\"\n",
        "s1 = student()\n",
        "print(s1.name)"
      ],
      "metadata": {
        "colab": {
          "base_uri": "https://localhost:8080/"
        },
        "id": "kbtQUKGXcVqf",
        "outputId": "79e85bfc-4075-416e-d8ac-ec8770c4da35"
      },
      "execution_count": null,
      "outputs": [
        {
          "output_type": "stream",
          "name": "stdout",
          "text": [
            "ashish\n"
          ]
        }
      ]
    },
    {
      "cell_type": "code",
      "source": [
        "class car:\n",
        "  colour = \"blue\"\n",
        "  brand = \"SUV\"\n",
        "car1 = car()\n",
        "print(car1.colour,\",\",car1.brand)"
      ],
      "metadata": {
        "colab": {
          "base_uri": "https://localhost:8080/"
        },
        "id": "D2_1RhMCe753",
        "outputId": "1f968fad-4284-4074-9de9-bedd1986cf50"
      },
      "execution_count": null,
      "outputs": [
        {
          "output_type": "stream",
          "name": "stdout",
          "text": [
            "blue , SUV\n"
          ]
        }
      ]
    },
    {
      "cell_type": "code",
      "source": [
        "class student:\n",
        "  name = \"ashish\"\n",
        "  def __init__(self):\n",
        "    print(\"this is a constructor\")\n",
        "s1 = student()\n",
        "print(s1.name)"
      ],
      "metadata": {
        "colab": {
          "base_uri": "https://localhost:8080/"
        },
        "id": "Kf7jam9mfdpa",
        "outputId": "cc6919b2-95e4-4413-ee28-a8a92c72e85b"
      },
      "execution_count": null,
      "outputs": [
        {
          "output_type": "stream",
          "name": "stdout",
          "text": [
            "this is a constructor\n",
            "ashish\n"
          ]
        }
      ]
    },
    {
      "cell_type": "code",
      "source": [
        "class stud:\n",
        "  def __init__(self, name, marks):\n",
        "    self.name = name\n",
        "    self.marks = marks\n",
        "    print(\"this is a constructor\")\n",
        "s1 = stud(\"ashish\", 90)\n",
        "print(s1.name, s1.marks)\n",
        "\n",
        "s2 = stud(\"nalawade\", 55)\n",
        "print(s2.name, s2.marks)"
      ],
      "metadata": {
        "colab": {
          "base_uri": "https://localhost:8080/"
        },
        "id": "d3rTK3amfLiH",
        "outputId": "e45daf58-3dc7-46b3-8d88-3d8f2dca4965"
      },
      "execution_count": null,
      "outputs": [
        {
          "output_type": "stream",
          "name": "stdout",
          "text": [
            "this is a constructor\n",
            "ashish 90\n",
            "this is a constructor\n",
            "nalawade 55\n"
          ]
        }
      ]
    },
    {
      "cell_type": "code",
      "source": [
        "class stud:\n",
        "\n",
        "  #default constructer\n",
        "  def __init__(self):\n",
        "    pass\n",
        "\n",
        "# parametrizes constructer\n",
        "  def __init__(self, name, marks):\n",
        "    self.name = name\n",
        "    self.marks = marks\n",
        "    print(\"this is a constructor\")\n",
        "s1 = stud(\"ashish\", 90)\n",
        "print(s1.name, s1.marks)\n",
        "\n",
        "s2 = stud(\"nalawade\", 55)\n",
        "print(s2.name, s2.marks)"
      ],
      "metadata": {
        "colab": {
          "base_uri": "https://localhost:8080/"
        },
        "id": "OQ6Z2Wmai2nP",
        "outputId": "77b0e7d0-ef04-48f6-d5bd-539ba0decc77"
      },
      "execution_count": null,
      "outputs": [
        {
          "output_type": "stream",
          "name": "stdout",
          "text": [
            "this is a constructor\n",
            "ashish 90\n",
            "this is a constructor\n",
            "nalawade 55\n"
          ]
        }
      ]
    },
    {
      "cell_type": "code",
      "source": [
        "class student:\n",
        "  def __init__(self, name, marks):\n",
        "    self.name = name\n",
        "    self.marks = marks\n",
        "\n",
        "  def get_avg(self):\n",
        "    sum = 0\n",
        "    for val in self.marks:\n",
        "      sum += val\n",
        "    return sum/len(self.marks)\n",
        "\n",
        "s1 = student(\"tony stark\",[66,65,25])\n",
        "s1.get_avg()\n"
      ],
      "metadata": {
        "colab": {
          "base_uri": "https://localhost:8080/"
        },
        "id": "nmVPzvPYm0xE",
        "outputId": "21dc699a-9215-4ace-d99f-d276f30ce9e6"
      },
      "execution_count": null,
      "outputs": [
        {
          "output_type": "execute_result",
          "data": {
            "text/plain": [
              "52.0"
            ]
          },
          "metadata": {},
          "execution_count": 12
        }
      ]
    },
    {
      "cell_type": "code",
      "source": [
        "#abstraction and encaplution\n",
        "class car:\n",
        "  def __init__(self):\n",
        "    self.acc = False\n",
        "    self.brk = False\n",
        "    self.clutch = False\n",
        "  def start(self):\n",
        "    self.clutch = True\n",
        "    self.acc = True\n",
        "    print(\"car started..\")\n",
        "car1 = car()\n",
        "car1.start()\n"
      ],
      "metadata": {
        "colab": {
          "base_uri": "https://localhost:8080/"
        },
        "id": "36ZTmMacn904",
        "outputId": "ee75eea8-a4f3-4fce-d9c6-a1801cf17adc"
      },
      "execution_count": null,
      "outputs": [
        {
          "output_type": "stream",
          "name": "stdout",
          "text": [
            "car started..\n"
          ]
        }
      ]
    },
    {
      "cell_type": "code",
      "source": [
        "# practice\n",
        "\n",
        "class acc:\n",
        "  def __init__(self, Bal, Acc):\n",
        "    self.Bal = Bal\n",
        "    self.Acc = Acc\n",
        "\n",
        "  def debit(self, amount):\n",
        "    self.Bal -= amount\n",
        "    print(\"amount debited\")\n",
        "\n",
        "  def credit(self, amount):\n",
        "    self.Bal += amount\n",
        "    print(\"amount credited\")\n",
        "\n",
        "  def get_val(self):\n",
        "    return self.Bal\n",
        "acc1 = acc(6262,562)\n",
        "print(acc1.Bal,acc1.Acc)\n",
        "acc1.debit(500)\n",
        "print(acc1.get_val())\n",
        "acc1.credit(5000)\n",
        "print(acc1.get_val())\n"
      ],
      "metadata": {
        "colab": {
          "base_uri": "https://localhost:8080/"
        },
        "id": "gdbQ0fICrru-",
        "outputId": "5d30fbaf-5c71-40b1-eed0-0d3fce195082"
      },
      "execution_count": null,
      "outputs": [
        {
          "output_type": "stream",
          "name": "stdout",
          "text": [
            "6262 562\n",
            "amount debited\n",
            "5762\n",
            "amount credited\n",
            "10762\n"
          ]
        }
      ]
    }
  ]
}