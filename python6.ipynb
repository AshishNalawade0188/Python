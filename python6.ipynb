{
  "nbformat": 4,
  "nbformat_minor": 0,
  "metadata": {
    "colab": {
      "provenance": [],
      "gpuType": "V28",
      "authorship_tag": "ABX9TyP7Yyy/Lw6m4u9rlMpDgMQf",
      "include_colab_link": true
    },
    "kernelspec": {
      "name": "python3",
      "display_name": "Python 3"
    },
    "language_info": {
      "name": "python"
    },
    "accelerator": "TPU"
  },
  "cells": [
    {
      "cell_type": "markdown",
      "metadata": {
        "id": "view-in-github",
        "colab_type": "text"
      },
      "source": [
        "<a href=\"https://colab.research.google.com/github/AshishNalawade0188/Python/blob/main/python6.ipynb\" target=\"_parent\"><img src=\"https://colab.research.google.com/assets/colab-badge.svg\" alt=\"Open In Colab\"/></a>"
      ]
    },
    {
      "cell_type": "code",
      "execution_count": 4,
      "metadata": {
        "colab": {
          "base_uri": "https://localhost:8080/"
        },
        "id": "0B398Q97CJjI",
        "outputId": "55dfd9a8-dbe0-4c60-baac-c1abb3d333f2"
      },
      "outputs": [
        {
          "output_type": "stream",
          "name": "stdout",
          "text": [
            "30\n",
            "65\n"
          ]
        },
        {
          "output_type": "execute_result",
          "data": {
            "text/plain": [
              "65"
            ]
          },
          "metadata": {},
          "execution_count": 4
        }
      ],
      "source": [
        "#functions and recursion\n",
        "def sum_cal(a,b):\n",
        "  sum = a + b\n",
        "  print(sum)\n",
        "  return sum\n",
        "\n",
        "sum_cal(10,20)\n",
        "sum_cal(2,63)"
      ]
    },
    {
      "cell_type": "code",
      "source": [
        "def sum(a,b):\n",
        "  return a+b\n",
        "sum = sum(10,20)\n",
        "print(sum)"
      ],
      "metadata": {
        "colab": {
          "base_uri": "https://localhost:8080/"
        },
        "id": "Ln1FZPyTEd-M",
        "outputId": "f47f211d-a844-4f74-b625-207813daf698"
      },
      "execution_count": 5,
      "outputs": [
        {
          "output_type": "stream",
          "name": "stdout",
          "text": [
            "30\n"
          ]
        }
      ]
    },
    {
      "cell_type": "code",
      "source": [
        "def print_hello():\n",
        "  print(\"hello\")\n",
        "print_hello()\n",
        "print_hello()\n",
        "print_hello()"
      ],
      "metadata": {
        "colab": {
          "base_uri": "https://localhost:8080/"
        },
        "id": "KA8ptaxwE_H5",
        "outputId": "c67abefc-7587-4b34-bbde-02fa79a120fb"
      },
      "execution_count": 7,
      "outputs": [
        {
          "output_type": "stream",
          "name": "stdout",
          "text": [
            "hello\n",
            "hello\n",
            "hello\n"
          ]
        }
      ]
    },
    {
      "cell_type": "code",
      "source": [
        "# avg od 3 num\n",
        "\n",
        "def avg(a,b,c):\n",
        "  avg = a+b+c/3\n",
        "  print(avg)\n",
        "  return avg\n",
        "avg(52,36,12)"
      ],
      "metadata": {
        "colab": {
          "base_uri": "https://localhost:8080/"
        },
        "id": "4W8q8SPqFRmw",
        "outputId": "04a6ea39-a220-4fe4-fa29-98567bbc515d"
      },
      "execution_count": 8,
      "outputs": [
        {
          "output_type": "stream",
          "name": "stdout",
          "text": [
            "92.0\n"
          ]
        },
        {
          "output_type": "execute_result",
          "data": {
            "text/plain": [
              "92.0"
            ]
          },
          "metadata": {},
          "execution_count": 8
        }
      ]
    },
    {
      "cell_type": "code",
      "source": [
        "print(\"apna clg\",end=\" \")\n",
        "print(\"ashish nalawade\")"
      ],
      "metadata": {
        "colab": {
          "base_uri": "https://localhost:8080/"
        },
        "id": "NzlycJtJGD-3",
        "outputId": "3ec99627-6bcf-4cd8-cec2-ce695b2d3976"
      },
      "execution_count": 9,
      "outputs": [
        {
          "output_type": "stream",
          "name": "stdout",
          "text": [
            "apna clg ashish nalawade\n"
          ]
        }
      ]
    },
    {
      "cell_type": "code",
      "source": [
        "# by default value\n",
        "def sum(a=5,b=9):\n",
        "  print(a+b)\n",
        "  return a+b\n",
        "sum()"
      ],
      "metadata": {
        "colab": {
          "base_uri": "https://localhost:8080/"
        },
        "id": "SbMJLFZNGiaw",
        "outputId": "3e52288b-0d78-4771-ce16-0dd7bb0ccd3d"
      },
      "execution_count": 1,
      "outputs": [
        {
          "output_type": "stream",
          "name": "stdout",
          "text": [
            "14\n"
          ]
        },
        {
          "output_type": "execute_result",
          "data": {
            "text/plain": [
              "14"
            ]
          },
          "metadata": {},
          "execution_count": 1
        }
      ]
    },
    {
      "cell_type": "code",
      "source": [
        "# by default value\n",
        "def sum(a,b=9):\n",
        "  print(a+b)\n",
        "  return a+b\n",
        "sum(5)"
      ],
      "metadata": {
        "colab": {
          "base_uri": "https://localhost:8080/"
        },
        "id": "AHEHZLByHulk",
        "outputId": "8cea5f47-57c5-43d5-a765-fa1f7fce6d1d"
      },
      "execution_count": 2,
      "outputs": [
        {
          "output_type": "stream",
          "name": "stdout",
          "text": [
            "14\n"
          ]
        },
        {
          "output_type": "execute_result",
          "data": {
            "text/plain": [
              "14"
            ]
          },
          "metadata": {},
          "execution_count": 2
        }
      ]
    },
    {
      "cell_type": "code",
      "source": [
        "cities = [\"delh\",\"pune\",\"mumbai\",\"kolkatta\",\"goa\"]\n",
        "heros = [\"ironman\",\"spiderman\",\"hanuman\"]\n",
        "def print_len(list):\n",
        "  print(len(list))\n",
        "\n",
        "print_len(cities)\n",
        "print_len(heros)"
      ],
      "metadata": {
        "colab": {
          "base_uri": "https://localhost:8080/"
        },
        "id": "SXziAjs5H1_L",
        "outputId": "389e4a1f-e366-4e01-ebbf-cb0db96818c3"
      },
      "execution_count": 4,
      "outputs": [
        {
          "output_type": "stream",
          "name": "stdout",
          "text": [
            "5\n",
            "3\n"
          ]
        }
      ]
    },
    {
      "cell_type": "code",
      "source": [
        "cities = [\"delh\",\"pune\",\"mumbai\",\"kolkatta\",\"goa\"]\n",
        "def print_list(list):\n",
        "  for item in list:\n",
        "    print(item,end=\" \")\n",
        "print_list(cities)"
      ],
      "metadata": {
        "colab": {
          "base_uri": "https://localhost:8080/"
        },
        "id": "9tHONhRbJfZv",
        "outputId": "a258ea78-b981-4f03-b58a-db977715316c"
      },
      "execution_count": 6,
      "outputs": [
        {
          "output_type": "stream",
          "name": "stdout",
          "text": [
            "delh pune mumbai kolkatta goa "
          ]
        }
      ]
    },
    {
      "cell_type": "code",
      "source": [
        "# fact calculate\n",
        "n = int(input(\"Enter the number: \"))\n",
        "def cal_fact(n):\n",
        "  fact = 1\n",
        "  for i in range(1, n+1):\n",
        "    fact *= i\n",
        "  print(fact)\n",
        "cal_fact(n)"
      ],
      "metadata": {
        "colab": {
          "base_uri": "https://localhost:8080/"
        },
        "id": "BO0MxaU4KEpI",
        "outputId": "e55e0a1b-c073-4815-805f-e8291b4b5c83"
      },
      "execution_count": 20,
      "outputs": [
        {
          "output_type": "stream",
          "name": "stdout",
          "text": [
            "Enter the number: 5\n",
            "120\n"
          ]
        }
      ]
    },
    {
      "cell_type": "code",
      "source": [
        "n = int(input(\"Enter the USD value :\"))\n",
        "def converter(Usd_val):\n",
        "  ind_val = Usd_val * 80\n",
        "  print(\"India Value :\", ind_val, \"USD Value\", Usd_val)\n",
        "converter(n)\n"
      ],
      "metadata": {
        "colab": {
          "base_uri": "https://localhost:8080/"
        },
        "id": "f99pYsrSKjga",
        "outputId": "a9257c9f-8313-4a6f-ddfc-323e8be9a7ad"
      },
      "execution_count": 22,
      "outputs": [
        {
          "output_type": "stream",
          "name": "stdout",
          "text": [
            "Enter the USD value :52\n",
            "India Value : 4160 USD Value 52\n"
          ]
        }
      ]
    },
    {
      "cell_type": "code",
      "source": [
        "n = int(input(\"Enter a number :\"))\n",
        "\n",
        "def odd_even(n):\n",
        "  if n%2 == 0:\n",
        "    print(\"string is Evan\")\n",
        "  else:\n",
        "    print(\"string is odd\")\n",
        "odd_even(n)\n"
      ],
      "metadata": {
        "colab": {
          "base_uri": "https://localhost:8080/"
        },
        "id": "RqikuBwpNdG8",
        "outputId": "d312d7d0-51bd-4ad0-faa3-8c2508a28502"
      },
      "execution_count": 24,
      "outputs": [
        {
          "output_type": "stream",
          "name": "stdout",
          "text": [
            "Enter a number :52\n",
            "string is Evan\n"
          ]
        }
      ]
    },
    {
      "cell_type": "code",
      "source": [
        "#recusrion\n",
        "\n",
        "n = int(input(\"enter a number :\"))\n",
        "def show(n):\n",
        "  if(n == 0):\n",
        "    return\n",
        "  print(n)\n",
        "  show(n-1)\n",
        "show(n)"
      ],
      "metadata": {
        "colab": {
          "base_uri": "https://localhost:8080/"
        },
        "id": "42QCMgXROjEA",
        "outputId": "d58453ee-100d-40c2-94e2-3fb7837e0624"
      },
      "execution_count": 27,
      "outputs": [
        {
          "output_type": "stream",
          "name": "stdout",
          "text": [
            "enter a number :5\n",
            "5\n",
            "4\n",
            "3\n",
            "2\n",
            "1\n"
          ]
        }
      ]
    },
    {
      "cell_type": "code",
      "source": [
        "n = int(input(\"Enter a number\"))\n",
        "\n",
        "def fact(n):\n",
        "  if(n==1 or n==0):\n",
        "    return 1\n",
        "  else:\n",
        "    return n * fact(n-1)\n",
        "fact(n)"
      ],
      "metadata": {
        "colab": {
          "base_uri": "https://localhost:8080/"
        },
        "id": "H-nxAnSkQhx5",
        "outputId": "5a747b40-0bb7-4c2b-d715-7f81a59bc80a"
      },
      "execution_count": 30,
      "outputs": [
        {
          "name": "stdout",
          "output_type": "stream",
          "text": [
            "Enter a number32\n"
          ]
        },
        {
          "output_type": "execute_result",
          "data": {
            "text/plain": [
              "263130836933693530167218012160000000"
            ]
          },
          "metadata": {},
          "execution_count": 30
        }
      ]
    },
    {
      "cell_type": "code",
      "source": [
        "n = int(input(\"Enter a number :\"))\n",
        "def cal_sum(n):\n",
        "  if(n==0):\n",
        "    return 0\n",
        "  sum = n + cal_sum(n-1)\n",
        "  return sum\n",
        "cal_sum(n)\n",
        ""
      ],
      "metadata": {
        "colab": {
          "base_uri": "https://localhost:8080/"
        },
        "id": "cgLPKgF9T2dO",
        "outputId": "81773c8e-f7b4-4c05-a7e3-f042d9272665"
      },
      "execution_count": 34,
      "outputs": [
        {
          "name": "stdout",
          "output_type": "stream",
          "text": [
            "Enter a number :5\n"
          ]
        },
        {
          "output_type": "execute_result",
          "data": {
            "text/plain": [
              "15"
            ]
          },
          "metadata": {},
          "execution_count": 34
        }
      ]
    },
    {
      "cell_type": "code",
      "source": [
        "cities = [\"delh\",\"pune\",\"mumbai\",\"kolkatta\",\"goa\"]\n",
        "\n",
        "def p_list(list, idx=0):\n",
        "  if(idx == len(list)):\n",
        "    return\n",
        "  print(list[idx])\n",
        "  p_list(list, idx+1)\n",
        "p_list(cities)"
      ],
      "metadata": {
        "colab": {
          "base_uri": "https://localhost:8080/"
        },
        "id": "MCgCQbY7U7Uo",
        "outputId": "e0808ef6-654e-4400-b4e9-d45a79ed89e9"
      },
      "execution_count": 36,
      "outputs": [
        {
          "output_type": "stream",
          "name": "stdout",
          "text": [
            "delh\n",
            "pune\n",
            "mumbai\n",
            "kolkatta\n",
            "goa\n"
          ]
        }
      ]
    },
    {
      "cell_type": "code",
      "source": [],
      "metadata": {
        "id": "NC3HOR9HWJGB"
      },
      "execution_count": null,
      "outputs": []
    }
  ]
}