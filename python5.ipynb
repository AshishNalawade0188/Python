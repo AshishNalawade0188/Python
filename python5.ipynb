{
  "nbformat": 4,
  "nbformat_minor": 0,
  "metadata": {
    "colab": {
      "provenance": [],
      "gpuType": "T4",
      "authorship_tag": "ABX9TyNPD5atCOIpoHtDuLPJQXuy",
      "include_colab_link": true
    },
    "kernelspec": {
      "name": "python3",
      "display_name": "Python 3"
    },
    "language_info": {
      "name": "python"
    },
    "accelerator": "GPU"
  },
  "cells": [
    {
      "cell_type": "markdown",
      "metadata": {
        "id": "view-in-github",
        "colab_type": "text"
      },
      "source": [
        "<a href=\"https://colab.research.google.com/github/AshishNalawade0188/Python/blob/main/python5.ipynb\" target=\"_parent\"><img src=\"https://colab.research.google.com/assets/colab-badge.svg\" alt=\"Open In Colab\"/></a>"
      ]
    },
    {
      "cell_type": "code",
      "source": [
        "#loops\n",
        "# while loops\n",
        "count = 1\n",
        "while count <=  100:\n",
        "  print(\"hello\", count\n",
        "  count += 1\n"
      ],
      "metadata": {
        "colab": {
          "base_uri": "https://localhost:8080/"
        },
        "id": "QvNCJR-o2sUh",
        "outputId": "1fcb288c-fa6f-4817-9b97-a1322a94e60f"
      },
      "execution_count": null,
      "outputs": [
        {
          "output_type": "stream",
          "name": "stdout",
          "text": [
            "hello 1 1\n",
            "hello 2 2\n",
            "hello 3 3\n",
            "hello 4 4\n",
            "hello 5 5\n",
            "hello 6 6\n",
            "hello 7 7\n",
            "hello 8 8\n",
            "hello 9 9\n",
            "hello 10 10\n",
            "hello 11 11\n",
            "hello 12 12\n",
            "hello 13 13\n",
            "hello 14 14\n",
            "hello 15 15\n",
            "hello 16 16\n",
            "hello 17 17\n",
            "hello 18 18\n",
            "hello 19 19\n",
            "hello 20 20\n",
            "hello 21 21\n",
            "hello 22 22\n",
            "hello 23 23\n",
            "hello 24 24\n",
            "hello 25 25\n",
            "hello 26 26\n",
            "hello 27 27\n",
            "hello 28 28\n",
            "hello 29 29\n",
            "hello 30 30\n",
            "hello 31 31\n",
            "hello 32 32\n",
            "hello 33 33\n",
            "hello 34 34\n",
            "hello 35 35\n",
            "hello 36 36\n",
            "hello 37 37\n",
            "hello 38 38\n",
            "hello 39 39\n",
            "hello 40 40\n",
            "hello 41 41\n",
            "hello 42 42\n",
            "hello 43 43\n",
            "hello 44 44\n",
            "hello 45 45\n",
            "hello 46 46\n",
            "hello 47 47\n",
            "hello 48 48\n",
            "hello 49 49\n",
            "hello 50 50\n",
            "hello 51 51\n",
            "hello 52 52\n",
            "hello 53 53\n",
            "hello 54 54\n",
            "hello 55 55\n",
            "hello 56 56\n",
            "hello 57 57\n",
            "hello 58 58\n",
            "hello 59 59\n",
            "hello 60 60\n",
            "hello 61 61\n",
            "hello 62 62\n",
            "hello 63 63\n",
            "hello 64 64\n",
            "hello 65 65\n",
            "hello 66 66\n",
            "hello 67 67\n",
            "hello 68 68\n",
            "hello 69 69\n",
            "hello 70 70\n",
            "hello 71 71\n",
            "hello 72 72\n",
            "hello 73 73\n",
            "hello 74 74\n",
            "hello 75 75\n",
            "hello 76 76\n",
            "hello 77 77\n",
            "hello 78 78\n",
            "hello 79 79\n",
            "hello 80 80\n",
            "hello 81 81\n",
            "hello 82 82\n",
            "hello 83 83\n",
            "hello 84 84\n",
            "hello 85 85\n",
            "hello 86 86\n",
            "hello 87 87\n",
            "hello 88 88\n",
            "hello 89 89\n",
            "hello 90 90\n",
            "hello 91 91\n",
            "hello 92 92\n",
            "hello 93 93\n",
            "hello 94 94\n",
            "hello 95 95\n",
            "hello 96 96\n",
            "hello 97 97\n",
            "hello 98 98\n",
            "hello 99 99\n",
            "hello 100 100\n"
          ]
        }
      ]
    },
    {
      "cell_type": "code",
      "source": [
        "i = 1\n",
        "while i<=5 :\n",
        "  print(i)\n",
        "  i += 1"
      ],
      "metadata": {
        "colab": {
          "base_uri": "https://localhost:8080/"
        },
        "id": "GuxiAHNW2w08",
        "outputId": "4cd2fbfc-b7b7-4133-a91d-d154d9fdfc12"
      },
      "execution_count": null,
      "outputs": [
        {
          "output_type": "stream",
          "name": "stdout",
          "text": [
            "1\n",
            "2\n",
            "3\n",
            "4\n",
            "5\n"
          ]
        }
      ]
    },
    {
      "cell_type": "code",
      "source": [
        "i = 5\n",
        "while i>=1 :\n",
        "  print(i)\n",
        "  i -= 1"
      ],
      "metadata": {
        "colab": {
          "base_uri": "https://localhost:8080/"
        },
        "id": "uZaAnE4X301d",
        "outputId": "cd69327b-a630-4ebe-f6ca-1360deb62e37"
      },
      "execution_count": null,
      "outputs": [
        {
          "output_type": "stream",
          "name": "stdout",
          "text": [
            "5\n",
            "4\n",
            "3\n",
            "2\n",
            "1\n"
          ]
        }
      ]
    },
    {
      "cell_type": "code",
      "source": [
        "#practice question\n",
        "i = 1\n",
        "while i <= 100 :\n",
        "  print(i)\n",
        "  i += 1"
      ],
      "metadata": {
        "colab": {
          "base_uri": "https://localhost:8080/"
        },
        "id": "9X4pbGKf330s",
        "outputId": "aec53f48-bc0c-48b1-e18d-64ab49984945"
      },
      "execution_count": null,
      "outputs": [
        {
          "output_type": "stream",
          "name": "stdout",
          "text": [
            "1\n",
            "2\n",
            "3\n",
            "4\n",
            "5\n",
            "6\n",
            "7\n",
            "8\n",
            "9\n",
            "10\n",
            "11\n",
            "12\n",
            "13\n",
            "14\n",
            "15\n",
            "16\n",
            "17\n",
            "18\n",
            "19\n",
            "20\n",
            "21\n",
            "22\n",
            "23\n",
            "24\n",
            "25\n",
            "26\n",
            "27\n",
            "28\n",
            "29\n",
            "30\n",
            "31\n",
            "32\n",
            "33\n",
            "34\n",
            "35\n",
            "36\n",
            "37\n",
            "38\n",
            "39\n",
            "40\n",
            "41\n",
            "42\n",
            "43\n",
            "44\n",
            "45\n",
            "46\n",
            "47\n",
            "48\n",
            "49\n",
            "50\n",
            "51\n",
            "52\n",
            "53\n",
            "54\n",
            "55\n",
            "56\n",
            "57\n",
            "58\n",
            "59\n",
            "60\n",
            "61\n",
            "62\n",
            "63\n",
            "64\n",
            "65\n",
            "66\n",
            "67\n",
            "68\n",
            "69\n",
            "70\n",
            "71\n",
            "72\n",
            "73\n",
            "74\n",
            "75\n",
            "76\n",
            "77\n",
            "78\n",
            "79\n",
            "80\n",
            "81\n",
            "82\n",
            "83\n",
            "84\n",
            "85\n",
            "86\n",
            "87\n",
            "88\n",
            "89\n",
            "90\n",
            "91\n",
            "92\n",
            "93\n",
            "94\n",
            "95\n",
            "96\n",
            "97\n",
            "98\n",
            "99\n",
            "100\n"
          ]
        }
      ]
    },
    {
      "cell_type": "code",
      "source": [
        "i = 100\n",
        "while i >= 1 :\n",
        "  print(i)\n",
        "  i -= 1"
      ],
      "metadata": {
        "colab": {
          "base_uri": "https://localhost:8080/"
        },
        "id": "u0a7A70n4rBb",
        "outputId": "ce18b6d9-9071-4501-c81c-cfdc9d8fa865"
      },
      "execution_count": null,
      "outputs": [
        {
          "output_type": "stream",
          "name": "stdout",
          "text": [
            "100\n",
            "99\n",
            "98\n",
            "97\n",
            "96\n",
            "95\n",
            "94\n",
            "93\n",
            "92\n",
            "91\n",
            "90\n",
            "89\n",
            "88\n",
            "87\n",
            "86\n",
            "85\n",
            "84\n",
            "83\n",
            "82\n",
            "81\n",
            "80\n",
            "79\n",
            "78\n",
            "77\n",
            "76\n",
            "75\n",
            "74\n",
            "73\n",
            "72\n",
            "71\n",
            "70\n",
            "69\n",
            "68\n",
            "67\n",
            "66\n",
            "65\n",
            "64\n",
            "63\n",
            "62\n",
            "61\n",
            "60\n",
            "59\n",
            "58\n",
            "57\n",
            "56\n",
            "55\n",
            "54\n",
            "53\n",
            "52\n",
            "51\n",
            "50\n",
            "49\n",
            "48\n",
            "47\n",
            "46\n",
            "45\n",
            "44\n",
            "43\n",
            "42\n",
            "41\n",
            "40\n",
            "39\n",
            "38\n",
            "37\n",
            "36\n",
            "35\n",
            "34\n",
            "33\n",
            "32\n",
            "31\n",
            "30\n",
            "29\n",
            "28\n",
            "27\n",
            "26\n",
            "25\n",
            "24\n",
            "23\n",
            "22\n",
            "21\n",
            "20\n",
            "19\n",
            "18\n",
            "17\n",
            "16\n",
            "15\n",
            "14\n",
            "13\n",
            "12\n",
            "11\n",
            "10\n",
            "9\n",
            "8\n",
            "7\n",
            "6\n",
            "5\n",
            "4\n",
            "3\n",
            "2\n",
            "1\n"
          ]
        }
      ]
    },
    {
      "cell_type": "code",
      "source": [
        "n = int(input(\"enter a number\"))\n",
        "i = 1\n",
        "while i <=10 :\n",
        "  print(i*n)\n",
        "  i += 1"
      ],
      "metadata": {
        "colab": {
          "base_uri": "https://localhost:8080/"
        },
        "id": "hGreiRQW4_BS",
        "outputId": "8d0458c4-0aee-4b45-b35b-9a76a18501ed"
      },
      "execution_count": null,
      "outputs": [
        {
          "output_type": "stream",
          "name": "stdout",
          "text": [
            "enter a number12\n",
            "12\n",
            "24\n",
            "36\n",
            "48\n",
            "60\n",
            "72\n",
            "84\n",
            "96\n",
            "108\n",
            "120\n"
          ]
        }
      ]
    },
    {
      "cell_type": "code",
      "source": [
        "list = [1, 4, 9, 16, 36, 49, 64, 81, 100]\n",
        "\n",
        "\n",
        "len(list)\n",
        "index = 0\n",
        "while index < len(list):\n",
        "  print(list[index])\n",
        "  index += 1"
      ],
      "metadata": {
        "colab": {
          "base_uri": "https://localhost:8080/"
        },
        "id": "gRgAei9l6Bfr",
        "outputId": "ea12b2a0-2e2c-4141-d913-ea1c13dbb115"
      },
      "execution_count": null,
      "outputs": [
        {
          "output_type": "stream",
          "name": "stdout",
          "text": [
            "1\n",
            "4\n",
            "9\n",
            "16\n",
            "36\n",
            "49\n",
            "64\n",
            "81\n",
            "100\n"
          ]
        }
      ]
    },
    {
      "cell_type": "code",
      "source": [
        "heros = ['hanuman', 'batman', 'antman', 'spiderman']\n",
        "\n",
        "i = 0\n",
        "while i < len(heros):\n",
        "    print(heros[i])\n",
        "    i += 1\n"
      ],
      "metadata": {
        "colab": {
          "base_uri": "https://localhost:8080/"
        },
        "id": "PJCOZbDH85WL",
        "outputId": "fc7793c7-14d1-43b7-ab4c-90bf4d1e6346"
      },
      "execution_count": 3,
      "outputs": [
        {
          "output_type": "stream",
          "name": "stdout",
          "text": [
            "hanuman\n",
            "batman\n",
            "antman\n",
            "spiderman\n"
          ]
        }
      ]
    },
    {
      "cell_type": "code",
      "source": [
        "tup = (1, 4, 9, 16, 36, 49, 64, 81, 100, 36)\n",
        "x = 36\n",
        "i = 0\n",
        "while i < len(tup):\n",
        "  if(tup[i] == x) :\n",
        "    print(\"number found\",i)\n",
        "\n",
        "\n",
        "  else:\n",
        "    print(\"not found\")\n",
        "  i += 1"
      ],
      "metadata": {
        "colab": {
          "base_uri": "https://localhost:8080/"
        },
        "id": "v8go3JmhJ73p",
        "outputId": "596a0458-6066-4070-e6db-33250ce22796"
      },
      "execution_count": 27,
      "outputs": [
        {
          "output_type": "stream",
          "name": "stdout",
          "text": [
            "not found\n",
            "not found\n",
            "not found\n",
            "not found\n",
            "number found 4\n",
            "not found\n",
            "not found\n",
            "not found\n",
            "not found\n",
            "number found 9\n"
          ]
        }
      ]
    },
    {
      "cell_type": "code",
      "source": [
        "# Break and Continue\n",
        "i = 1\n",
        "while i <= 5 :\n",
        "  print(i)\n",
        "  if(i == 3):\n",
        "    break\n",
        "  i += 1\n",
        "\n",
        "\n"
      ],
      "metadata": {
        "colab": {
          "base_uri": "https://localhost:8080/"
        },
        "id": "iH2UBUgWKVEU",
        "outputId": "cdc37f17-4a40-47e6-f11b-6d39bc5720d5"
      },
      "execution_count": 25,
      "outputs": [
        {
          "output_type": "stream",
          "name": "stdout",
          "text": [
            "1\n",
            "2\n",
            "3\n"
          ]
        }
      ]
    },
    {
      "cell_type": "code",
      "source": [
        "tup = (1, 4, 9, 16, 36, 49, 64, 81, 100, 36)\n",
        "x = 36\n",
        "i = 0\n",
        "while i < len(tup):\n",
        "  if(tup[i] == x) :\n",
        "    print(\"number found\",i)\n",
        "    break\n",
        "\n",
        "  else:\n",
        "    print(\"not found\")\n",
        "  i += 1"
      ],
      "metadata": {
        "colab": {
          "base_uri": "https://localhost:8080/"
        },
        "id": "fAWPLO3NMfa0",
        "outputId": "ded5e382-bd27-49f4-ab13-c6c106278027"
      },
      "execution_count": 28,
      "outputs": [
        {
          "output_type": "stream",
          "name": "stdout",
          "text": [
            "not found\n",
            "not found\n",
            "not found\n",
            "not found\n",
            "number found 4\n"
          ]
        }
      ]
    },
    {
      "cell_type": "code",
      "source": [
        "# continue\n",
        "i = 1\n",
        "while i <= 10:\n",
        "  if(i%2 == 0):\n",
        "    i += 1\n",
        "    continue\n",
        "  print(i)\n",
        "  i += 1"
      ],
      "metadata": {
        "colab": {
          "base_uri": "https://localhost:8080/"
        },
        "id": "nNypCzgwMoJi",
        "outputId": "1481b194-7420-4cfe-8863-4f51adae454a"
      },
      "execution_count": 37,
      "outputs": [
        {
          "output_type": "stream",
          "name": "stdout",
          "text": [
            "1\n",
            "3\n",
            "5\n",
            "7\n",
            "9\n"
          ]
        }
      ]
    },
    {
      "cell_type": "code",
      "source": [
        "# for loops\n",
        "list = [1,2,3,4,5,6,7,8,9]\n",
        "for i in list:\n",
        "  print(i)"
      ],
      "metadata": {
        "colab": {
          "base_uri": "https://localhost:8080/"
        },
        "id": "PVIt4_QGO0ok",
        "outputId": "2e260b86-7520-49bd-dbe6-207814ab7c0f"
      },
      "execution_count": 40,
      "outputs": [
        {
          "output_type": "stream",
          "name": "stdout",
          "text": [
            "1\n",
            "2\n",
            "3\n",
            "4\n",
            "5\n",
            "6\n",
            "7\n",
            "8\n",
            "9\n"
          ]
        }
      ]
    },
    {
      "cell_type": "code",
      "source": [
        "STR = \"OHDWCUIHIWBCIHCCHC\"\n",
        "for i in STR:\n",
        "  if(i == 'C'):\n",
        "    break\n",
        "  print(i)\n",
        "else :\n",
        "  print(\"loop completed\")"
      ],
      "metadata": {
        "colab": {
          "base_uri": "https://localhost:8080/"
        },
        "id": "ELvwiroTPrha",
        "outputId": "fe15a081-53eb-4419-c3cb-23b9bf842b06"
      },
      "execution_count": 43,
      "outputs": [
        {
          "output_type": "stream",
          "name": "stdout",
          "text": [
            "O\n",
            "H\n",
            "D\n",
            "W\n"
          ]
        }
      ]
    },
    {
      "cell_type": "code",
      "source": [
        "tup = [1, 4, 9, 16, 36, 49, 64, 81, 100, 36]\n",
        "for i in tup:\n",
        "  print(i)\n"
      ],
      "metadata": {
        "colab": {
          "base_uri": "https://localhost:8080/"
        },
        "id": "xESieHyNRDVC",
        "outputId": "a710386f-3365-4630-f5b1-facc1682f418"
      },
      "execution_count": 45,
      "outputs": [
        {
          "output_type": "stream",
          "name": "stdout",
          "text": [
            "1\n",
            "4\n",
            "9\n",
            "16\n",
            "36\n",
            "49\n",
            "64\n",
            "81\n",
            "100\n",
            "36\n"
          ]
        }
      ]
    },
    {
      "cell_type": "code",
      "source": [
        "tup = [1, 4, 9, 16, 25,36, 49, 64, 81, 100, 36]\n",
        "x = 100\n",
        "a = 0\n",
        "for i in tup:\n",
        "  if(i == x):\n",
        "    print(\"number found\",a)\n",
        "    break\n",
        "  a += 1"
      ],
      "metadata": {
        "colab": {
          "base_uri": "https://localhost:8080/"
        },
        "id": "uuRz7zy0RLV4",
        "outputId": "5dc8a1bf-a666-4d11-a3ba-60997cdcc9a8"
      },
      "execution_count": 47,
      "outputs": [
        {
          "output_type": "stream",
          "name": "stdout",
          "text": [
            "number found 9\n"
          ]
        }
      ]
    },
    {
      "cell_type": "code",
      "source": [
        "#range()\n",
        "\n",
        "for i in range(1,11):\n",
        "  print(i)"
      ],
      "metadata": {
        "colab": {
          "base_uri": "https://localhost:8080/"
        },
        "id": "4K_-iipuSRsS",
        "outputId": "9d7b0046-8c42-49cd-a588-7e69fa2afecf"
      },
      "execution_count": 48,
      "outputs": [
        {
          "output_type": "stream",
          "name": "stdout",
          "text": [
            "1\n",
            "2\n",
            "3\n",
            "4\n",
            "5\n",
            "6\n",
            "7\n",
            "8\n",
            "9\n",
            "10\n"
          ]
        }
      ]
    },
    {
      "cell_type": "code",
      "source": [
        "for i in range(1,11,2):\n",
        "  print(i)"
      ],
      "metadata": {
        "colab": {
          "base_uri": "https://localhost:8080/"
        },
        "id": "2NUJpix_SYiE",
        "outputId": "7c86467b-0439-4495-a32d-d39bb895c126"
      },
      "execution_count": 52,
      "outputs": [
        {
          "output_type": "stream",
          "name": "stdout",
          "text": [
            "1\n",
            "3\n",
            "5\n",
            "7\n",
            "9\n"
          ]
        }
      ]
    },
    {
      "cell_type": "code",
      "source": [
        "for i in range(1,101):\n",
        "  print(i)"
      ],
      "metadata": {
        "colab": {
          "base_uri": "https://localhost:8080/"
        },
        "id": "G89iMCDfTg2A",
        "outputId": "70e1646e-9857-4825-ca9a-d30e7afe25c3"
      },
      "execution_count": 54,
      "outputs": [
        {
          "output_type": "stream",
          "name": "stdout",
          "text": [
            "1\n",
            "2\n",
            "3\n",
            "4\n",
            "5\n",
            "6\n",
            "7\n",
            "8\n",
            "9\n",
            "10\n",
            "11\n",
            "12\n",
            "13\n",
            "14\n",
            "15\n",
            "16\n",
            "17\n",
            "18\n",
            "19\n",
            "20\n",
            "21\n",
            "22\n",
            "23\n",
            "24\n",
            "25\n",
            "26\n",
            "27\n",
            "28\n",
            "29\n",
            "30\n",
            "31\n",
            "32\n",
            "33\n",
            "34\n",
            "35\n",
            "36\n",
            "37\n",
            "38\n",
            "39\n",
            "40\n",
            "41\n",
            "42\n",
            "43\n",
            "44\n",
            "45\n",
            "46\n",
            "47\n",
            "48\n",
            "49\n",
            "50\n",
            "51\n",
            "52\n",
            "53\n",
            "54\n",
            "55\n",
            "56\n",
            "57\n",
            "58\n",
            "59\n",
            "60\n",
            "61\n",
            "62\n",
            "63\n",
            "64\n",
            "65\n",
            "66\n",
            "67\n",
            "68\n",
            "69\n",
            "70\n",
            "71\n",
            "72\n",
            "73\n",
            "74\n",
            "75\n",
            "76\n",
            "77\n",
            "78\n",
            "79\n",
            "80\n",
            "81\n",
            "82\n",
            "83\n",
            "84\n",
            "85\n",
            "86\n",
            "87\n",
            "88\n",
            "89\n",
            "90\n",
            "91\n",
            "92\n",
            "93\n",
            "94\n",
            "95\n",
            "96\n",
            "97\n",
            "98\n",
            "99\n",
            "100\n"
          ]
        }
      ]
    },
    {
      "cell_type": "markdown",
      "source": [
        "for i in range(100,0,-1):\n",
        "  print(i)"
      ],
      "metadata": {
        "id": "c_SECprJT7sz"
      }
    },
    {
      "cell_type": "code",
      "source": [
        "n = int(input(\"enter a number\"))\n",
        "for i in range(1,11):\n",
        "  print(i*n)"
      ],
      "metadata": {
        "colab": {
          "base_uri": "https://localhost:8080/"
        },
        "id": "NE_9qEc-T9QU",
        "outputId": "3ab44ffd-3f1e-43c5-8664-70647dd94571"
      },
      "execution_count": 57,
      "outputs": [
        {
          "output_type": "stream",
          "name": "stdout",
          "text": [
            "enter a number5\n",
            "5\n",
            "10\n",
            "15\n",
            "20\n",
            "25\n",
            "30\n",
            "35\n",
            "40\n",
            "45\n",
            "50\n"
          ]
        }
      ]
    },
    {
      "cell_type": "code",
      "source": [
        "#pass statement ,null statement\n",
        "\n",
        "for i in range(5):\n",
        "  pass\n",
        "print(\"some useful code\")"
      ],
      "metadata": {
        "id": "O3FTHuNYUU9D"
      },
      "execution_count": null,
      "outputs": []
    },
    {
      "cell_type": "code",
      "source": [
        "n = 5\n",
        "sum = 0"
      ],
      "metadata": {
        "id": "i7f0slO2U4VR"
      },
      "execution_count": null,
      "outputs": []
    }
  ]
}