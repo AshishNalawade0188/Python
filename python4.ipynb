{
  "nbformat": 4,
  "nbformat_minor": 0,
  "metadata": {
    "colab": {
      "provenance": [],
      "authorship_tag": "ABX9TyNprk9k8XsxV4+icHN07+BU",
      "include_colab_link": true
    },
    "kernelspec": {
      "name": "python3",
      "display_name": "Python 3"
    },
    "language_info": {
      "name": "python"
    }
  },
  "cells": [
    {
      "cell_type": "markdown",
      "metadata": {
        "id": "view-in-github",
        "colab_type": "text"
      },
      "source": [
        "<a href=\"https://colab.research.google.com/github/AshishNalawade0188/Python/blob/main/python4.ipynb\" target=\"_parent\"><img src=\"https://colab.research.google.com/assets/colab-badge.svg\" alt=\"Open In Colab\"/></a>"
      ]
    },
    {
      "cell_type": "code",
      "execution_count": 13,
      "metadata": {
        "id": "xs8IrDolBnBG",
        "colab": {
          "base_uri": "https://localhost:8080/"
        },
        "outputId": "7f414a5e-ff74-43ec-9c52-fee83b7451e5"
      },
      "outputs": [
        {
          "output_type": "stream",
          "name": "stdout",
          "text": [
            "{'name': 'ashish', 'Age': 25, 'class': 'BE', 25: 36, 'marks': [6, 3, 9, 2, 3]}\n",
            "dict_keys(['name', 'Age', 'class', 25, 'marks'])\n",
            "dict_values(['ashish', 25, 'BE', 36, [6, 3, 9, 2, 3]])\n",
            "dict_items([('name', 'ashish'), ('Age', 25), ('class', 'BE'), (25, 36), ('marks', [6, 3, 9, 2, 3])])\n",
            "[6, 3, 9, 2, 3]\n",
            "{'name': 'ashish', 'Age': 22, 'class': 'TE', 25: 36, 'marks': [6, 3, 9, 2, 3]}\n"
          ]
        }
      ],
      "source": [
        "# dict\n",
        "dict = {\"name\":\"ashish\",\n",
        "        \"Age\":25,\n",
        "        \"class\":\"BE\",\n",
        "        25:36,\n",
        "        \"marks\":[6,3,9,2,3]}\n",
        "print(dict)\n",
        "\n",
        "print(dict.keys())\n",
        "print(dict.values())\n",
        "print(dict.items())\n",
        "\n",
        "print(dict.get(\"marks\"))\n",
        "\n",
        "dict[\"Age\"] = 22\n",
        "dict['class'] = \"TE\"\n",
        "print(dict)\n",
        "\n"
      ]
    },
    {
      "cell_type": "code",
      "source": [
        "nul_dict = {}\n",
        "nul_dict[\"name\"]=\"ashish\"\n",
        "print(nul_dict)"
      ],
      "metadata": {
        "colab": {
          "base_uri": "https://localhost:8080/"
        },
        "id": "rPj-Zc0NQlqx",
        "outputId": "68348bea-e1aa-47e7-a6f1-902087c3949e"
      },
      "execution_count": 16,
      "outputs": [
        {
          "output_type": "stream",
          "name": "stdout",
          "text": [
            "{'name': 'ashish'}\n"
          ]
        }
      ]
    },
    {
      "cell_type": "code",
      "source": [
        "#nested dict\n",
        "student = {\n",
        "    \"name\":\"ashish\",\n",
        "    \"subject\" : {\n",
        "        \"marathi\":52,\n",
        "        \"hindi\":65,\n",
        "        \"english\":85\n",
        "    }\n",
        "}\n",
        "print(student['subject'][\"marathi\"])\n",
        ""
      ],
      "metadata": {
        "colab": {
          "base_uri": "https://localhost:8080/"
        },
        "id": "KmFI6DVkRtus",
        "outputId": "880f45cd-2fc7-4f3a-9d53-9db9a0c76af7"
      },
      "execution_count": 20,
      "outputs": [
        {
          "output_type": "stream",
          "name": "stdout",
          "text": [
            "52\n"
          ]
        }
      ]
    },
    {
      "cell_type": "code",
      "source": [
        "dict.keys()"
      ],
      "metadata": {
        "colab": {
          "base_uri": "https://localhost:8080/"
        },
        "id": "yfPyfw5eStS7",
        "outputId": "b0705ab8-2db6-440f-c29a-71da57650c3a"
      },
      "execution_count": 22,
      "outputs": [
        {
          "output_type": "execute_result",
          "data": {
            "text/plain": [
              "dict_keys(['name', 'Age', 'class', 25, 'marks'])"
            ]
          },
          "metadata": {},
          "execution_count": 22
        }
      ]
    },
    {
      "cell_type": "code",
      "source": [
        "len(student['subject'])\n"
      ],
      "metadata": {
        "colab": {
          "base_uri": "https://localhost:8080/"
        },
        "id": "EZkqRRvtS4pS",
        "outputId": "c6c834f1-b35a-4851-984f-3c3fa7151893"
      },
      "execution_count": 26,
      "outputs": [
        {
          "output_type": "execute_result",
          "data": {
            "text/plain": [
              "3"
            ]
          },
          "metadata": {},
          "execution_count": 26
        }
      ]
    },
    {
      "cell_type": "code",
      "source": [
        "dict.items()"
      ],
      "metadata": {
        "colab": {
          "base_uri": "https://localhost:8080/"
        },
        "id": "aclXYARATPog",
        "outputId": "8762056f-839b-4c2e-e6bb-0506d8a7900f"
      },
      "execution_count": 27,
      "outputs": [
        {
          "output_type": "execute_result",
          "data": {
            "text/plain": [
              "dict_items([('name', 'ashish'), ('Age', 22), ('class', 'TE'), (25, 36), ('marks', [6, 3, 9, 2, 3])])"
            ]
          },
          "metadata": {},
          "execution_count": 27
        }
      ]
    },
    {
      "cell_type": "code",
      "source": [
        "pairs =list(student.items())\n",
        "print(pairs[1])"
      ],
      "metadata": {
        "colab": {
          "base_uri": "https://localhost:8080/"
        },
        "id": "hFrovIo4TUvZ",
        "outputId": "38d01820-cc2d-43b3-da70-f26e6e85f2c4"
      },
      "execution_count": 30,
      "outputs": [
        {
          "output_type": "stream",
          "name": "stdout",
          "text": [
            "('subject', {'marathi': 52, 'hindi': 65, 'english': 85})\n"
          ]
        }
      ]
    },
    {
      "cell_type": "code",
      "source": [
        "student.get(\"subject\")"
      ],
      "metadata": {
        "colab": {
          "base_uri": "https://localhost:8080/"
        },
        "id": "qH5E74wGTwfp",
        "outputId": "9da83931-d417-4f13-f08e-133574c80bf1"
      },
      "execution_count": 33,
      "outputs": [
        {
          "output_type": "execute_result",
          "data": {
            "text/plain": [
              "{'marathi': 52, 'hindi': 65, 'english': 85}"
            ]
          },
          "metadata": {},
          "execution_count": 33
        }
      ]
    },
    {
      "cell_type": "code",
      "source": [
        "newdict ={\"roll No\":51}\n",
        "newdict.update({\"name\":\"hiussain\"})\n",
        "print(dict)"
      ],
      "metadata": {
        "colab": {
          "base_uri": "https://localhost:8080/"
        },
        "id": "yaRBNPTqUtdH",
        "outputId": "9774b067-10c4-458b-af7f-ff641c1c1ab4"
      },
      "execution_count": 37,
      "outputs": [
        {
          "output_type": "stream",
          "name": "stdout",
          "text": [
            "{'name': 'hiussain', 'Age': 22, 'class': 'TE', 25: 36, 'marks': [6, 3, 9, 2, 3]}\n"
          ]
        }
      ]
    },
    {
      "cell_type": "code",
      "source": [
        "dict.pop(\"name\")"
      ],
      "metadata": {
        "colab": {
          "base_uri": "https://localhost:8080/",
          "height": 36
        },
        "id": "g_AT0s4oWOI7",
        "outputId": "e21d636e-8f06-403a-c823-84d7eacf61cf"
      },
      "execution_count": 39,
      "outputs": [
        {
          "output_type": "execute_result",
          "data": {
            "text/plain": [
              "'hiussain'"
            ],
            "application/vnd.google.colaboratory.intrinsic+json": {
              "type": "string"
            }
          },
          "metadata": {},
          "execution_count": 39
        }
      ]
    },
    {
      "cell_type": "code",
      "source": [
        "#sets\n",
        "sets = {5,\"hello\",1,2,3,4,5,3,2,\"world\",\"world\"}\n",
        "print(sets)\n",
        "type(sets)\n"
      ],
      "metadata": {
        "colab": {
          "base_uri": "https://localhost:8080/"
        },
        "id": "48kmuYAlU2OF",
        "outputId": "a11c8861-474c-4b36-d9c5-efc15a6b1543"
      },
      "execution_count": 54,
      "outputs": [
        {
          "output_type": "stream",
          "name": "stdout",
          "text": [
            "{1, 2, 3, 4, 5, 'world', 'hello'}\n"
          ]
        },
        {
          "output_type": "execute_result",
          "data": {
            "text/plain": [
              "set"
            ]
          },
          "metadata": {},
          "execution_count": 54
        }
      ]
    },
    {
      "cell_type": "code",
      "source": [
        "#empty set\n",
        "seat = set()\n",
        "seat.add(\"ashish\")\n",
        "seat.add(\"hiussain\")\n",
        "seat.add(\"ashish\")\n",
        "seat.remove(\"ashish\")\n",
        "seat.pop()\n",
        "seat.clear()\n",
        "print(seat)"
      ],
      "metadata": {
        "colab": {
          "base_uri": "https://localhost:8080/"
        },
        "id": "OKrS1lO3W3su",
        "outputId": "842aa8bb-0c3f-4bd5-afac-55fca7720a90"
      },
      "execution_count": 61,
      "outputs": [
        {
          "output_type": "stream",
          "name": "stdout",
          "text": [
            "set()\n"
          ]
        }
      ]
    },
    {
      "cell_type": "code",
      "source": [
        "collection = {\"ashish\",\"hiussain\",\"ashish\"}\n",
        "print(collection.pop())\n",
        "collection = {\"ashish\",\"hiussain\",\"ashish\"}\n",
        "print(collection.pop())"
      ],
      "metadata": {
        "colab": {
          "base_uri": "https://localhost:8080/"
        },
        "id": "YDPeajMnX0bQ",
        "outputId": "a433739e-007b-4655-8be1-64b3e19c5140"
      },
      "execution_count": 64,
      "outputs": [
        {
          "output_type": "stream",
          "name": "stdout",
          "text": [
            "hiussain\n",
            "hiussain\n"
          ]
        }
      ]
    },
    {
      "cell_type": "code",
      "source": [
        "set1 ={1,2,3,4,5,6,2,3,1,5,4}\n",
        "set2 = {52,15,8,5,3,1,6,5}\n",
        "print(set1.union(set2))\n",
        "print(set1.intersection(set2))\n",
        "print(set1.difference(set2))\n"
      ],
      "metadata": {
        "colab": {
          "base_uri": "https://localhost:8080/"
        },
        "id": "kdJxpB7cac_f",
        "outputId": "f0c55f88-fd5a-4224-91da-e802d4b25c9f"
      },
      "execution_count": 67,
      "outputs": [
        {
          "output_type": "stream",
          "name": "stdout",
          "text": [
            "{1, 2, 3, 4, 5, 6, 8, 15, 52}\n",
            "{1, 3, 5, 6}\n",
            "{2, 4}\n"
          ]
        }
      ]
    },
    {
      "cell_type": "code",
      "source": [
        "dictonary = {\n",
        "    \"cat\" : \"a small animal\",\n",
        "    \"table\" : [\"a piece of furnitire\",\"list of facts & figures\"]\n",
        "}\n",
        "print(dictonary[\"table\"])"
      ],
      "metadata": {
        "colab": {
          "base_uri": "https://localhost:8080/"
        },
        "id": "5gza6CxObCYz",
        "outputId": "b6a8815b-a17d-47ab-f8f3-696f1193361e"
      },
      "execution_count": 70,
      "outputs": [
        {
          "output_type": "stream",
          "name": "stdout",
          "text": [
            "['a piece of furnitire', 'list of facts & figures']\n"
          ]
        }
      ]
    },
    {
      "cell_type": "code",
      "source": [
        "classes = {\"python\",\"java\",\"c++\",\"javascript\",\"python\",\"c\",\"java\",\"java\",\"python\",\"c++\"}\n",
        "print(classes)\n"
      ],
      "metadata": {
        "colab": {
          "base_uri": "https://localhost:8080/"
        },
        "id": "kE3JuXqwbsgO",
        "outputId": "81698c8d-75ab-401d-c439-479c24c92dec"
      },
      "execution_count": 78,
      "outputs": [
        {
          "output_type": "stream",
          "name": "stdout",
          "text": [
            "{'python', 'c++', 'c', 'javascript', 'java'}\n"
          ]
        }
      ]
    },
    {
      "cell_type": "code",
      "source": [
        "marks = {}\n",
        "x = int(input(\"enter marks\"))\n",
        "marks[\"physics\"] = x\n",
        "x = int(input(\"enter marks\"))\n",
        "marks[\"chemistry\"] = x\n",
        "x = int(input(\"enter marks\"))\n",
        "marks[\"maths\"] = x\n",
        "print(marks)"
      ],
      "metadata": {
        "colab": {
          "base_uri": "https://localhost:8080/"
        },
        "id": "a5KM30RBdEEZ",
        "outputId": "6d054d42-ba1a-421a-e5d1-499016fe1f0a"
      },
      "execution_count": 81,
      "outputs": [
        {
          "output_type": "stream",
          "name": "stdout",
          "text": [
            "enter marks12\n",
            "enter marks53\n",
            "enter marks25\n",
            "{'physics': 12, 'chemistry': 53, 'maths': 25}\n"
          ]
        }
      ]
    },
    {
      "cell_type": "code",
      "source": [
        "sets = {9,9.0,9.00,9.000,\"9.0\"}\n",
        "print(sets)"
      ],
      "metadata": {
        "colab": {
          "base_uri": "https://localhost:8080/"
        },
        "id": "xem4eZK1d7Ts",
        "outputId": "d25400a8-4b9b-438c-d4f3-0bd4b8b91e34"
      },
      "execution_count": 84,
      "outputs": [
        {
          "output_type": "stream",
          "name": "stdout",
          "text": [
            "{9, '9.0'}\n"
          ]
        }
      ]
    },
    {
      "cell_type": "code",
      "source": [
        "ak = {\n",
        "    (\"float\",9.0),\n",
        "    (\"int\",9)\n",
        "}\n",
        "print(ak)\n"
      ],
      "metadata": {
        "colab": {
          "base_uri": "https://localhost:8080/"
        },
        "id": "coUxJWblef1v",
        "outputId": "4bc3ee6e-5a85-4faa-c145-6d6667e3895f"
      },
      "execution_count": 86,
      "outputs": [
        {
          "output_type": "stream",
          "name": "stdout",
          "text": [
            "{('float', 9.0), ('int', 9)}\n"
          ]
        }
      ]
    }
  ]
}